{
 "cells": [
  {
   "cell_type": "markdown",
   "metadata": {},
   "source": [
    "# Numpy Basic Operations"
   ]
  },
  {
   "cell_type": "code",
   "execution_count": 1,
   "metadata": {
    "collapsed": true
   },
   "outputs": [],
   "source": [
    "import numpy as np"
   ]
  },
  {
   "cell_type": "code",
   "execution_count": 19,
   "metadata": {},
   "outputs": [
    {
     "name": "stdout",
     "output_type": "stream",
     "text": [
      "[]\n"
     ]
    }
   ],
   "source": [
    "# Initialized array\n",
    "a = np.array([])\n",
    "print a"
   ]
  },
  {
   "cell_type": "code",
   "execution_count": 33,
   "metadata": {},
   "outputs": [
    {
     "name": "stdout",
     "output_type": "stream",
     "text": [
      "[[ 0.  0.  0.]\n",
      " [ 0.  0.  0.]]\n"
     ]
    }
   ],
   "source": [
    "# Un-initialized array,will have some random value\n",
    "a= np.empty([2,3])\n",
    "print a"
   ]
  },
  {
   "cell_type": "code",
   "execution_count": 146,
   "metadata": {},
   "outputs": [
    {
     "name": "stdout",
     "output_type": "stream",
     "text": [
      "[1 2 3]\n",
      "<type 'numpy.ndarray'>\n",
      "(3L,)\n",
      "int32\n",
      "3\n",
      "4\n",
      "1\n"
     ]
    }
   ],
   "source": [
    "a= np.array([1,2,3])\n",
    "print a\n",
    "print type(a)\n",
    "print a.shape\n",
    "print a.dtype\n",
    "print a.size\n",
    "print a.itemsize\n",
    "print a.ndim"
   ]
  },
  {
   "cell_type": "code",
   "execution_count": 147,
   "metadata": {},
   "outputs": [
    {
     "name": "stdout",
     "output_type": "stream",
     "text": [
      "[[1 2 3]\n",
      " [4 5 6]]\n",
      "(2L, 3L)\n",
      "124\n",
      "2\n"
     ]
    }
   ],
   "source": [
    "import sys\n",
    "a = np.array([[1,2,3],[4,5,6]],dtype=\"int16\")\n",
    "print a\n",
    "print a.shape\n",
    "print sys.getsizeof(a)\n",
    "print a.ndim"
   ]
  },
  {
   "cell_type": "code",
   "execution_count": 66,
   "metadata": {},
   "outputs": [
    {
     "name": "stdout",
     "output_type": "stream",
     "text": [
      "[[ 1.  2.  3.]\n",
      " [ 4.  5.  6.]]\n",
      "(2L, 3L)\n",
      "136\n"
     ]
    }
   ],
   "source": [
    "import sys\n",
    "a = np.array([[1,2,3],[4,5,6]],dtype=\"float32\")\n",
    "print a\n",
    "print a.shape\n",
    "print sys.getsizeof(a)"
   ]
  },
  {
   "cell_type": "markdown",
   "metadata": {},
   "source": [
    "# Numpy Indexing, Slicing Operations"
   ]
  },
  {
   "cell_type": "code",
   "execution_count": 72,
   "metadata": {},
   "outputs": [
    {
     "name": "stdout",
     "output_type": "stream",
     "text": [
      "[1 2 3]\n",
      "[[1 2 3]\n",
      " [4 5 6]]\n"
     ]
    }
   ],
   "source": [
    "a = np.array([[1,2,3],[4,5,6]])\n",
    "print a[0]\n",
    "print a[:,:]"
   ]
  },
  {
   "cell_type": "code",
   "execution_count": 150,
   "metadata": {},
   "outputs": [
    {
     "name": "stdout",
     "output_type": "stream",
     "text": [
      "(20L,)\n",
      "(5L, 4L)\n",
      "[[ 0  1  2  3]\n",
      " [ 4  5  6  7]\n",
      " [ 8  9 10 11]\n",
      " [12 13 14 15]\n",
      " [16 17 18 19]] ##### [[ 0  1]\n",
      " [ 4  5]\n",
      " [ 8  9]\n",
      " [12 13]\n",
      " [16 17]]\n"
     ]
    }
   ],
   "source": [
    "a = np.arange(20)\n",
    "print a.shape\n",
    "a = a.reshape(5,4)\n",
    "print a.shape\n",
    "print a,\"#\"*5,\n",
    "print a[:,:2]"
   ]
  },
  {
   "cell_type": "code",
   "execution_count": 153,
   "metadata": {},
   "outputs": [
    {
     "data": {
      "text/plain": [
       "array([[ 0,  1,  2,  3],\n",
       "       [ 4,  5,  6,  7],\n",
       "       [ 8,  9, 10, 11],\n",
       "       [12, 13, 14, 15],\n",
       "       [16, 17, 18, 19]])"
      ]
     },
     "execution_count": 153,
     "metadata": {},
     "output_type": "execute_result"
    }
   ],
   "source": [
    "a"
   ]
  },
  {
   "cell_type": "code",
   "execution_count": 149,
   "metadata": {},
   "outputs": [
    {
     "data": {
      "text/plain": [
       "array([[1, 4],\n",
       "       [2, 5],\n",
       "       [3, 6]], dtype=int16)"
      ]
     },
     "execution_count": 149,
     "metadata": {},
     "output_type": "execute_result"
    }
   ],
   "source": [
    "a.T # Transpose"
   ]
  },
  {
   "cell_type": "code",
   "execution_count": 94,
   "metadata": {},
   "outputs": [
    {
     "data": {
      "text/plain": [
       "array([[ 0,  4,  8, 12, 16],\n",
       "       [ 1,  5,  9, 13, 17],\n",
       "       [ 2,  6, 10, 14, 18],\n",
       "       [ 3,  7, 11, 15, 19]])"
      ]
     },
     "execution_count": 94,
     "metadata": {},
     "output_type": "execute_result"
    }
   ],
   "source": [
    "a.transpose() # Transpose"
   ]
  },
  {
   "cell_type": "code",
   "execution_count": 102,
   "metadata": {},
   "outputs": [
    {
     "name": "stdout",
     "output_type": "stream",
     "text": [
      "[[ 0  2  4  6]\n",
      " [ 8 10 12 14]\n",
      " [16 18 20 22]\n",
      " [24 26 28 30]\n",
      " [32 34 36 38]]\n",
      "[[  0   1   4   9]\n",
      " [ 16  25  36  49]\n",
      " [ 64  81 100 121]\n",
      " [144 169 196 225]\n",
      " [256 289 324 361]]\n"
     ]
    }
   ],
   "source": [
    "print a*2 # multiple 2 with each element\n",
    "print a*a"
   ]
  },
  {
   "cell_type": "markdown",
   "metadata": {},
   "source": [
    "# Iterating over array element"
   ]
  },
  {
   "cell_type": "code",
   "execution_count": 145,
   "metadata": {},
   "outputs": [
    {
     "name": "stdout",
     "output_type": "stream",
     "text": [
      "[[1 2]\n",
      " [3 4]] \n",
      "\n",
      "[1 2]\n",
      "[3 4]\n",
      "1 2 3 4\n"
     ]
    }
   ],
   "source": [
    "print a,\"\\n\"\n",
    "b = iter(a)\n",
    "print b.next()\n",
    "print b.next()\n",
    "\n",
    "# or\n",
    "for itm in np.nditer(a):\n",
    "    print itm,"
   ]
  },
  {
   "cell_type": "markdown",
   "metadata": {},
   "source": [
    "# Changing shape"
   ]
  },
  {
   "cell_type": "code",
   "execution_count": 119,
   "metadata": {},
   "outputs": [
    {
     "name": "stdout",
     "output_type": "stream",
     "text": [
      "(5L, 4L) \n",
      "[[ 0  1  2  3]\n",
      " [ 4  5  6  7]\n",
      " [ 8  9 10 11]\n",
      " [12 13 14 15]\n",
      " [16 17 18 19]]\n",
      "(10L, 2L) \n",
      "[[ 0  1]\n",
      " [ 2  3]\n",
      " [ 4  5]\n",
      " [ 6  7]\n",
      " [ 8  9]\n",
      " [10 11]\n",
      " [12 13]\n",
      " [14 15]\n",
      " [16 17]\n",
      " [18 19]]\n"
     ]
    }
   ],
   "source": [
    "a.shape\n",
    "b = a.reshape(10,2)\n",
    "print a.shape,\"\\n\",a\n",
    "print b.shape,\"\\n\",b"
   ]
  },
  {
   "cell_type": "markdown",
   "metadata": {},
   "source": [
    "# Stacking array vstack and hstack"
   ]
  },
  {
   "cell_type": "code",
   "execution_count": 137,
   "metadata": {},
   "outputs": [
    {
     "name": "stdout",
     "output_type": "stream",
     "text": [
      "(4L, 2L) \n",
      "[[1 2]\n",
      " [3 4]\n",
      " [5 6]\n",
      " [7 8]]\n",
      "(2L, 4L) \n",
      "[[1 2 5 6]\n",
      " [3 4 7 8]]\n"
     ]
    }
   ],
   "source": [
    "a = np.array(([1,2],[3,4]))\n",
    "b = np.array(([5,6],[7,8]))\n",
    "v = np.vstack([a,b])\n",
    "h = np.hstack([a,b])\n",
    "print v.shape,\"\\n\",v\n",
    "print h.shape,\"\\n\",h"
   ]
  },
  {
   "cell_type": "markdown",
   "metadata": {},
   "source": [
    "# Standard functions for nparray"
   ]
  },
  {
   "cell_type": "code",
   "execution_count": 154,
   "metadata": {},
   "outputs": [
    {
     "data": {
      "text/plain": [
       "array([[ 0,  1,  2,  3],\n",
       "       [ 4,  5,  6,  7],\n",
       "       [ 8,  9, 10, 11],\n",
       "       [12, 13, 14, 15],\n",
       "       [16, 17, 18, 19]])"
      ]
     },
     "execution_count": 154,
     "metadata": {},
     "output_type": "execute_result"
    }
   ],
   "source": [
    "a"
   ]
  },
  {
   "cell_type": "code",
   "execution_count": 170,
   "metadata": {},
   "outputs": [
    {
     "name": "stdout",
     "output_type": "stream",
     "text": [
      "0\n",
      "19\n",
      "5.76628129734\n",
      "9.5\n",
      "[[ 0.          0.84147098  0.90929743  0.14112001]\n",
      " [-0.7568025  -0.95892427 -0.2794155   0.6569866 ]\n",
      " [ 0.98935825  0.41211849 -0.54402111 -0.99999021]\n",
      " [-0.53657292  0.42016704  0.99060736  0.65028784]\n",
      " [-0.28790332 -0.96139749 -0.75098725  0.14987721]]\n",
      "[[ 1.          0.54030231 -0.41614684 -0.9899925 ]\n",
      " [-0.65364362  0.28366219  0.96017029  0.75390225]\n",
      " [-0.14550003 -0.91113026 -0.83907153  0.0044257 ]\n",
      " [ 0.84385396  0.90744678  0.13673722 -0.75968791]\n",
      " [-0.95765948 -0.27516334  0.66031671  0.98870462]]\n",
      "[[  0.00000000e+00   1.55740772e+00  -2.18503986e+00  -1.42546543e-01]\n",
      " [  1.15782128e+00  -3.38051501e+00  -2.91006191e-01   8.71447983e-01]\n",
      " [ -6.79971146e+00  -4.52315659e-01   6.48360827e-01  -2.25950846e+02]\n",
      " [ -6.35859929e-01   4.63021133e-01   7.24460662e+00  -8.55993401e-01]\n",
      " [  3.00632242e-01   3.49391565e+00  -1.13731371e+00   1.51589471e-01]]\n"
     ]
    }
   ],
   "source": [
    "print a.min()\n",
    "print a.max()\n",
    "print a.std()\n",
    "print a.mean()\n",
    "print np.sin(a)\n",
    "print np.cos(a)\n",
    "print np.tan(a)"
   ]
  },
  {
   "cell_type": "markdown",
   "metadata": {},
   "source": [
    "# Filtering specific values from array"
   ]
  },
  {
   "cell_type": "code",
   "execution_count": 173,
   "metadata": {},
   "outputs": [
    {
     "name": "stdout",
     "output_type": "stream",
     "text": [
      "[[ 0  1  2  3]\n",
      " [ 4  5  6  7]\n",
      " [ 8  9 10 11]\n",
      " [12 13 14 15]\n",
      " [16 17 18 19]]\n",
      "[ 6  7  8  9 10 11 12 13 14 15 16 17 18 19]\n"
     ]
    }
   ],
   "source": [
    "print a\n",
    "print a[a>5] # Will return all the values for which condition is \"True\""
   ]
  },
  {
   "cell_type": "code",
   "execution_count": 178,
   "metadata": {},
   "outputs": [
    {
     "name": "stdout",
     "output_type": "stream",
     "text": [
      "[[ 0  1  2  3]\n",
      " [ 4  5  6  7]\n",
      " [ 8  9 10 11]\n",
      " [12 13 14 15]\n",
      " [16 17 18 19]]\n",
      "[ 6  7  8  9 10 11 12 13 14 15 16 17 18 19]\n"
     ]
    }
   ],
   "source": [
    "print a\n",
    "b = np.where(a>5) # Will return the index of those values for which condition is \"True\"\n",
    "print a[b] # Will return the values at the supplied index"
   ]
  },
  {
   "cell_type": "markdown",
   "metadata": {},
   "source": [
    "# Open a csv file and read them"
   ]
  },
  {
   "cell_type": "code",
   "execution_count": 190,
   "metadata": {},
   "outputs": [
    {
     "name": "stdout",
     "output_type": "stream",
     "text": [
      "[ nan  nan  nan  nan  nan  nan  nan  nan  nan  nan  nan  nan  nan  nan  nan\n",
      "  nan  nan  nan  nan  nan  nan]\n"
     ]
    }
   ],
   "source": [
    "data = np.genfromtxt(r\"C:\\Users\\psoni\\Desktop\\Py_Test_Program\\numpy_pandas\\pd\\education_sta.csv\",delimiter=\",\")\n",
    "print data[0] # will return all string as nan\n"
   ]
  },
  {
   "cell_type": "code",
   "execution_count": 195,
   "metadata": {},
   "outputs": [
    {
     "name": "stdout",
     "output_type": "stream",
     "text": [
      "[u'Year' u'Agriculture' u'Architecture' u'Art and Performance' u'Biology'\n",
      " u'Business' u'Communications and Journalism' u'Computer Science'\n",
      " u'Education' u'Engineering' u'English' u'Foreign Languages'\n",
      " u'Health Professions' u'Math and Statistics' u'Physical Sciences'\n",
      " u'Psychology' u'Public Administration' u'Social Sciences and History'\n",
      " u'survivied' u'survivied2' u'survivied3']\n",
      "[u'Year' u'1970' u'1971' u'1972' u'1973' u'1974' u'1975' u'1976' u'1977'\n",
      " u'1978' u'1979' u'1980' u'1981' u'1982' u'1983' u'1984' u'1985' u'1986'\n",
      " u'1987' u'1988' u'1989' u'1990' u'1991' u'1992' u'1993' u'1994' u'1995'\n",
      " u'1996' u'1997' u'1998' u'1999' u'2000' u'2001' u'2002' u'2003' u'2004'\n",
      " u'2005' u'2006' u'2007' u'2008' u'2009' u'2010' u'2011']\n"
     ]
    }
   ],
   "source": [
    "data = np.genfromtxt(r\"C:\\Users\\psoni\\Desktop\\Py_Test_Program\\numpy_pandas\\pd\\education_sta.csv\",delimiter=\",\",dtype=\"|U75\")\n",
    "print data[0] # dtype == U75 will return all string name as well\n",
    "print data[:,0]\n"
   ]
  }
 ],
 "metadata": {
  "kernelspec": {
   "display_name": "Python 2",
   "language": "python",
   "name": "python2"
  },
  "language_info": {
   "codemirror_mode": {
    "name": "ipython",
    "version": 2
   },
   "file_extension": ".py",
   "mimetype": "text/x-python",
   "name": "python",
   "nbconvert_exporter": "python",
   "pygments_lexer": "ipython2",
   "version": "2.7.13"
  }
 },
 "nbformat": 4,
 "nbformat_minor": 2
}
