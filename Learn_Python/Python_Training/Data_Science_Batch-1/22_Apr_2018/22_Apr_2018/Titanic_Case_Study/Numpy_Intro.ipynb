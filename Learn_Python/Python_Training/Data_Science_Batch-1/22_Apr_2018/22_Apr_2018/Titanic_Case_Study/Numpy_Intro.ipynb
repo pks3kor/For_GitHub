{
 "cells": [
  {
   "cell_type": "markdown",
   "metadata": {},
   "source": [
    "# Numpy Basic Operations"
   ]
  },
  {
   "cell_type": "code",
   "execution_count": 1,
   "metadata": {
    "collapsed": true
   },
   "outputs": [],
   "source": [
    "import numpy as np"
   ]
  },
  {
   "cell_type": "code",
   "execution_count": 2,
   "metadata": {},
   "outputs": [
    {
     "name": "stdout",
     "output_type": "stream",
     "text": [
      "[]\n"
     ]
    }
   ],
   "source": [
    "# Initialized array\n",
    "a = np.array([])\n",
    "print a"
   ]
  },
  {
   "cell_type": "code",
   "execution_count": 3,
   "metadata": {},
   "outputs": [
    {
     "name": "stdout",
     "output_type": "stream",
     "text": [
      "[[  1.53477530e-316   1.53654455e-316   2.50026224e-315]\n",
      " [  0.00000000e+000   0.00000000e+000   0.00000000e+000]]\n"
     ]
    }
   ],
   "source": [
    "# Un-initialized array,will have some random value\n",
    "a= np.empty([2,3])\n",
    "print a"
   ]
  },
  {
   "cell_type": "code",
   "execution_count": 4,
   "metadata": {},
   "outputs": [
    {
     "name": "stdout",
     "output_type": "stream",
     "text": [
      "[1 2 3]\n",
      "<type 'numpy.ndarray'>\n",
      "(3L,)\n",
      "int32\n",
      "3\n",
      "4\n",
      "1\n"
     ]
    }
   ],
   "source": [
    "a= np.array([1,2,3])\n",
    "print a\n",
    "print type(a)\n",
    "print a.shape\n",
    "print a.dtype\n",
    "print a.size\n",
    "print a.itemsize\n",
    "print a.ndim"
   ]
  },
  {
   "cell_type": "code",
   "execution_count": 59,
   "metadata": {},
   "outputs": [
    {
     "name": "stdout",
     "output_type": "stream",
     "text": [
      "[[1 2 3]\n",
      " [4 5 6]]\n",
      "(2L, 3L)\n",
      "124\n",
      "2\n"
     ]
    }
   ],
   "source": [
    "import sys\n",
    "a = np.array([[1,2,3],[4,5,6]],dtype=\"int16\")\n",
    "print a\n",
    "print a.shape\n",
    "print sys.getsizeof(a)\n",
    "print a.ndim"
   ]
  },
  {
   "cell_type": "code",
   "execution_count": 6,
   "metadata": {},
   "outputs": [
    {
     "name": "stdout",
     "output_type": "stream",
     "text": [
      "[[ 1.  2.  3.]\n",
      " [ 4.  5.  6.]]\n",
      "(2L, 3L)\n",
      "136\n"
     ]
    }
   ],
   "source": [
    "import sys\n",
    "a = np.array([[1,2,3],[4,5,6]],dtype=\"float32\")\n",
    "print a\n",
    "print a.shape\n",
    "print sys.getsizeof(a)"
   ]
  },
  {
   "cell_type": "code",
   "execution_count": 67,
   "metadata": {},
   "outputs": [
    {
     "name": "stdout",
     "output_type": "stream",
     "text": [
      "[1 2 3]\n",
      "int32\n",
      "[ True  True  True]\n",
      "bool\n",
      "[ 1.  2.  3.]\n",
      "float64\n",
      "[ 1.+0.j  2.+0.j  3.+0.j]\n",
      "complex128\n"
     ]
    }
   ],
   "source": [
    "# Shorthand for defaults\n",
    "tmp = np.int_([1,2,3])\n",
    "print tmp\n",
    "print tmp.dtype\n",
    "tmp = np.bool_([1,2,3])\n",
    "print tmp\n",
    "print tmp.dtype\n",
    "tmp = np.float_([1,2,3])\n",
    "print tmp\n",
    "print tmp.dtype\n",
    "tmp = np.complex_([1,2,3])\n",
    "print tmp\n",
    "print tmp.dtype"
   ]
  },
  {
   "cell_type": "code",
   "execution_count": 57,
   "metadata": {},
   "outputs": [
    {
     "name": "stdout",
     "output_type": "stream",
     "text": [
      "[  1.           1.3877551    1.7755102    2.16326531   2.55102041\n",
      "   2.93877551   3.32653061   3.71428571   4.10204082   4.48979592\n",
      "   4.87755102   5.26530612   5.65306122   6.04081633   6.42857143\n",
      "   6.81632653   7.20408163   7.59183673   7.97959184   8.36734694\n",
      "   8.75510204   9.14285714   9.53061224   9.91836735  10.30612245\n",
      "  10.69387755  11.08163265  11.46938776  11.85714286  12.24489796\n",
      "  12.63265306  13.02040816  13.40816327  13.79591837  14.18367347\n",
      "  14.57142857  14.95918367  15.34693878  15.73469388  16.12244898\n",
      "  16.51020408  16.89795918  17.28571429  17.67346939  18.06122449\n",
      "  18.44897959  18.83673469  19.2244898   19.6122449   20.        ]\n",
      "[  1.           3.11111111   5.22222222   7.33333333   9.44444444\n",
      "  11.55555556  13.66666667  15.77777778  17.88888889  20.        ]\n"
     ]
    }
   ],
   "source": [
    "# Linearly seperated value within range\n",
    "lin = np.linspace(1,20) # default 50 numbers will be printed within 1-20\n",
    "print lin\n",
    "lin = np.linspace(1,20,10) # 10 values will be printed within 1-20\n",
    "print lin"
   ]
  },
  {
   "cell_type": "markdown",
   "metadata": {},
   "source": [
    "# Numpy Indexing, Slicing Operations"
   ]
  },
  {
   "cell_type": "code",
   "execution_count": 7,
   "metadata": {},
   "outputs": [
    {
     "name": "stdout",
     "output_type": "stream",
     "text": [
      "[1 2 3]\n",
      "[[1 2 3]\n",
      " [4 5 6]]\n"
     ]
    }
   ],
   "source": [
    "a = np.array([[1,2,3],[4,5,6]])\n",
    "print a[0]\n",
    "print a[:,:]"
   ]
  },
  {
   "cell_type": "code",
   "execution_count": 32,
   "metadata": {},
   "outputs": [
    {
     "name": "stdout",
     "output_type": "stream",
     "text": [
      "(20L,)\n",
      "(5L, 4L)\n",
      "[[ 0  1  2  3]\n",
      " [ 4  5  6  7]\n",
      " [ 8  9 10 11]\n",
      " [12 13 14 15]\n",
      " [16 17 18 19]] ##### [[ 0  1]\n",
      " [ 4  5]\n",
      " [ 8  9]\n",
      " [12 13]\n",
      " [16 17]]\n"
     ]
    }
   ],
   "source": [
    "a = np.arange(20)\n",
    "print a.shape\n",
    "a = a.reshape(5,4)\n",
    "print a.shape\n",
    "print a,\"#\"*5,\n",
    "print a[:,:2]"
   ]
  },
  {
   "cell_type": "code",
   "execution_count": 33,
   "metadata": {},
   "outputs": [
    {
     "data": {
      "text/plain": [
       "array([[ 0,  1,  2,  3],\n",
       "       [ 4,  5,  6,  7],\n",
       "       [ 8,  9, 10, 11],\n",
       "       [12, 13, 14, 15],\n",
       "       [16, 17, 18, 19]])"
      ]
     },
     "execution_count": 33,
     "metadata": {},
     "output_type": "execute_result"
    }
   ],
   "source": [
    "a"
   ]
  },
  {
   "cell_type": "code",
   "execution_count": 34,
   "metadata": {},
   "outputs": [
    {
     "data": {
      "text/plain": [
       "array([[ 0,  4,  8, 12, 16],\n",
       "       [ 1,  5,  9, 13, 17],\n",
       "       [ 2,  6, 10, 14, 18],\n",
       "       [ 3,  7, 11, 15, 19]])"
      ]
     },
     "execution_count": 34,
     "metadata": {},
     "output_type": "execute_result"
    }
   ],
   "source": [
    "a.T # Transpose"
   ]
  },
  {
   "cell_type": "code",
   "execution_count": 31,
   "metadata": {},
   "outputs": [
    {
     "data": {
      "text/plain": [
       "array([[1, 3],\n",
       "       [2, 4]])"
      ]
     },
     "execution_count": 31,
     "metadata": {},
     "output_type": "execute_result"
    }
   ],
   "source": [
    "a.transpose() # Transpose"
   ]
  },
  {
   "cell_type": "code",
   "execution_count": 81,
   "metadata": {},
   "outputs": [
    {
     "name": "stdout",
     "output_type": "stream",
     "text": [
      "[[ 2  4  6]\n",
      " [ 8 10 12]]\n",
      "[[ 1  4  9]\n",
      " [16 25 36]]\n",
      "[[1 2 3]\n",
      " [4 5 6]]\n",
      "[[14 32]\n",
      " [32 77]]\n"
     ]
    },
    {
     "data": {
      "text/plain": [
       "array([[1, 4],\n",
       "       [2, 5],\n",
       "       [3, 6]], dtype=int16)"
      ]
     },
     "execution_count": 81,
     "metadata": {},
     "output_type": "execute_result"
    }
   ],
   "source": [
    "print a*2 # multiple 2 with each element\n",
    "print a*a # multiple 2 with each element\n",
    "print a\n",
    "print np.dot(a,a.T) # a.T because in a(m,n), m != n of a hence, a.T (m,n) will match the number of column and rows\n",
    "a.T"
   ]
  },
  {
   "cell_type": "markdown",
   "metadata": {},
   "source": [
    "# Iterating over array element"
   ]
  },
  {
   "cell_type": "code",
   "execution_count": 36,
   "metadata": {},
   "outputs": [
    {
     "name": "stdout",
     "output_type": "stream",
     "text": [
      "[[ 0  1  2  3]\n",
      " [ 4  5  6  7]\n",
      " [ 8  9 10 11]\n",
      " [12 13 14 15]\n",
      " [16 17 18 19]] \n",
      "\n",
      "[0 1 2 3]\n",
      "[4 5 6 7]\n",
      "0 1 2 3 4 5 6 7 8 9 10 11 12 13 14 15 16 17 18 19\n"
     ]
    }
   ],
   "source": [
    "print a,\"\\n\"\n",
    "b = iter(a)\n",
    "print b.next()\n",
    "print b.next()\n",
    "\n",
    "# or\n",
    "for itm in np.nditer(a):\n",
    "    print itm,"
   ]
  },
  {
   "cell_type": "markdown",
   "metadata": {},
   "source": [
    "# Changing shape"
   ]
  },
  {
   "cell_type": "code",
   "execution_count": 37,
   "metadata": {},
   "outputs": [
    {
     "name": "stdout",
     "output_type": "stream",
     "text": [
      "(5L, 4L) \n",
      "[[ 0  1  2  3]\n",
      " [ 4  5  6  7]\n",
      " [ 8  9 10 11]\n",
      " [12 13 14 15]\n",
      " [16 17 18 19]]\n",
      "(10L, 2L) \n",
      "[[ 0  1]\n",
      " [ 2  3]\n",
      " [ 4  5]\n",
      " [ 6  7]\n",
      " [ 8  9]\n",
      " [10 11]\n",
      " [12 13]\n",
      " [14 15]\n",
      " [16 17]\n",
      " [18 19]]\n"
     ]
    }
   ],
   "source": [
    "a.shape\n",
    "b = a.reshape(10,2)\n",
    "print a.shape,\"\\n\",a\n",
    "print b.shape,\"\\n\",b"
   ]
  },
  {
   "cell_type": "markdown",
   "metadata": {},
   "source": [
    "# Stacking array vstack and hstack"
   ]
  },
  {
   "cell_type": "code",
   "execution_count": 38,
   "metadata": {},
   "outputs": [
    {
     "name": "stdout",
     "output_type": "stream",
     "text": [
      "(4L, 2L) \n",
      "[[1 2]\n",
      " [3 4]\n",
      " [5 6]\n",
      " [7 8]]\n",
      "(2L, 4L) \n",
      "[[1 2 5 6]\n",
      " [3 4 7 8]]\n"
     ]
    }
   ],
   "source": [
    "a = np.array(([1,2],[3,4]))\n",
    "b = np.array(([5,6],[7,8]))\n",
    "v = np.vstack([a,b])\n",
    "h = np.hstack([a,b])\n",
    "print v.shape,\"\\n\",v\n",
    "print h.shape,\"\\n\",h"
   ]
  },
  {
   "cell_type": "markdown",
   "metadata": {},
   "source": [
    "# Standard functions for nparray"
   ]
  },
  {
   "cell_type": "code",
   "execution_count": 39,
   "metadata": {},
   "outputs": [
    {
     "data": {
      "text/plain": [
       "array([[1, 2],\n",
       "       [3, 4]])"
      ]
     },
     "execution_count": 39,
     "metadata": {},
     "output_type": "execute_result"
    }
   ],
   "source": [
    "a"
   ]
  },
  {
   "cell_type": "code",
   "execution_count": 40,
   "metadata": {},
   "outputs": [
    {
     "name": "stdout",
     "output_type": "stream",
     "text": [
      "1\n",
      "4\n",
      "1.11803398875\n",
      "2.5\n",
      "[[ 0.84147098  0.90929743]\n",
      " [ 0.14112001 -0.7568025 ]]\n",
      "[[ 0.54030231 -0.41614684]\n",
      " [-0.9899925  -0.65364362]]\n",
      "[[ 1.55740772 -2.18503986]\n",
      " [-0.14254654  1.15782128]]\n"
     ]
    }
   ],
   "source": [
    "print a.min()\n",
    "print a.max()\n",
    "print a.std()\n",
    "print a.mean()\n",
    "print np.sin(a)\n",
    "print np.cos(a)\n",
    "print np.tan(a)"
   ]
  },
  {
   "cell_type": "markdown",
   "metadata": {},
   "source": [
    "# Filtering specific values from array"
   ]
  },
  {
   "cell_type": "code",
   "execution_count": 45,
   "metadata": {},
   "outputs": [
    {
     "name": "stdout",
     "output_type": "stream",
     "text": [
      "[[ 0  1  2  3]\n",
      " [ 4  5  6  7]\n",
      " [ 8  9 10 11]\n",
      " [12 13 14 15]\n",
      " [16 17 18 19]]\n",
      "[ 6  7  8  9 10 11 12 13 14 15 16 17 18 19]\n",
      "[ 9 10 11 12 13 14 15 16 17 18 19]\n"
     ]
    }
   ],
   "source": [
    "a = np.arange(20)\n",
    "a = a.reshape(5,4)\n",
    "print a\n",
    "print a[a>5] # Will return all the values for which condition is \"True\"\n",
    "print a[a>8]"
   ]
  },
  {
   "cell_type": "code",
   "execution_count": 46,
   "metadata": {},
   "outputs": [
    {
     "name": "stdout",
     "output_type": "stream",
     "text": [
      "[[ 0  1  2  3]\n",
      " [ 4  5  6  7]\n",
      " [ 8  9 10 11]\n",
      " [12 13 14 15]\n",
      " [16 17 18 19]]\n",
      "[ 6  7  8  9 10 11 12 13 14 15 16 17 18 19]\n"
     ]
    }
   ],
   "source": [
    "print a\n",
    "b = np.where(a>5) # Will return the index of those values for which condition is \"True\"\n",
    "print a[b] # Will return the values at the supplied index"
   ]
  },
  {
   "cell_type": "markdown",
   "metadata": {},
   "source": [
    "# Generating diagonal,zeros and ones matrix"
   ]
  },
  {
   "cell_type": "code",
   "execution_count": 88,
   "metadata": {},
   "outputs": [
    {
     "name": "stdout",
     "output_type": "stream",
     "text": [
      "[[ 0.  0.  0.]\n",
      " [ 0.  0.  0.]]\n",
      "[[ 1.  1.  1.]\n",
      " [ 1.  1.  1.]]\n",
      "[[ 1.  0.  0.]\n",
      " [ 0.  1.  0.]\n",
      " [ 0.  0.  1.]]\n"
     ]
    }
   ],
   "source": [
    "print np.zeros((2,3))\n",
    "print np.ones((2,3))\n",
    "print np.eye(3)"
   ]
  },
  {
   "cell_type": "markdown",
   "metadata": {},
   "source": [
    "# Open a csv file and read them"
   ]
  },
  {
   "cell_type": "code",
   "execution_count": 20,
   "metadata": {},
   "outputs": [
    {
     "name": "stdout",
     "output_type": "stream",
     "text": [
      "[ nan  nan  nan  nan  nan  nan  nan  nan  nan  nan  nan  nan  nan  nan  nan\n",
      "  nan  nan  nan  nan  nan  nan]\n"
     ]
    }
   ],
   "source": [
    "data = np.genfromtxt(r\"C:\\Users\\psoni\\Desktop\\Py_Test_Program\\numpy_pandas\\pd\\education_sta.csv\",delimiter=\",\")\n",
    "print data[0] # will return all string as nan\n"
   ]
  },
  {
   "cell_type": "code",
   "execution_count": 53,
   "metadata": {},
   "outputs": [
    {
     "name": "stdout",
     "output_type": "stream",
     "text": [
      "[u'Year' u'Agriculture' u'Architecture' u'Art and Performance' u'Biology'\n",
      " u'Business' u'Communications and Journalism' u'Computer Science'\n",
      " u'Education' u'Engineering' u'English' u'Foreign Languages'\n",
      " u'Health Professions' u'Math and Statistics' u'Physical Sciences'\n",
      " u'Psychology' u'Public Administration' u'Social Sciences and History'\n",
      " u'survivied' u'survivied2' u'survivied3']\n",
      "[u'Year' u'1970' u'1971' u'1972' u'1973' u'1974' u'1975' u'1976' u'1977'\n",
      " u'1978' u'1979' u'1980' u'1981' u'1982' u'1983' u'1984' u'1985' u'1986'\n",
      " u'1987' u'1988' u'1989' u'1990' u'1991' u'1992' u'1993' u'1994' u'1995'\n",
      " u'1996' u'1997' u'1998' u'1999' u'2000' u'2001' u'2002' u'2003' u'2004'\n",
      " u'2005' u'2006' u'2007' u'2008' u'2009' u'2010' u'2011']\n",
      "[u'Year' u'1970' u'1971']\n",
      "[u'1970' u'1971']\n"
     ]
    }
   ],
   "source": [
    "data = np.genfromtxt(r\"C:\\Users\\psoni\\Desktop\\Py_Test_Program\\numpy_pandas\\pd\\education_sta.csv\",delimiter=\",\",dtype=\"|U75\")\n",
    "print data[0] # dtype == U75 will return all string name as well\n",
    "print data[:,0]\n",
    "print data[0:3,0]\n",
    "print data[1:3,0] # Skipping the header part\n"
   ]
  }
 ],
 "metadata": {
  "kernelspec": {
   "display_name": "Python 2",
   "language": "python",
   "name": "python2"
  },
  "language_info": {
   "codemirror_mode": {
    "name": "ipython",
    "version": 2
   },
   "file_extension": ".py",
   "mimetype": "text/x-python",
   "name": "python",
   "nbconvert_exporter": "python",
   "pygments_lexer": "ipython2",
   "version": "2.7.13"
  }
 },
 "nbformat": 4,
 "nbformat_minor": 2
}
