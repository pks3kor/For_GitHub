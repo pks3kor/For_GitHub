{
 "cells": [
  {
   "cell_type": "code",
   "execution_count": 7,
   "metadata": {
    "collapsed": true
   },
   "outputs": [],
   "source": [
    "import pandas as pd\n",
    "import numpy as np\n",
    "import matplotlib.pyplot as plt"
   ]
  },
  {
   "cell_type": "code",
   "execution_count": 12,
   "metadata": {},
   "outputs": [
    {
     "name": "stdout",
     "output_type": "stream",
     "text": [
      "11    0\n",
      "12    1\n",
      "13    2\n",
      "14    3\n",
      "15    4\n",
      "16    5\n",
      "dtype: int64\n"
     ]
    }
   ],
   "source": [
    "s = pd.Series([0,1,2,3,4,5],index=[11,12,13,14,15,16])\n",
    "print(s)"
   ]
  },
  {
   "cell_type": "code",
   "execution_count": 15,
   "metadata": {},
   "outputs": [
    {
     "data": {
      "text/plain": [
       "0"
      ]
     },
     "execution_count": 15,
     "metadata": {},
     "output_type": "execute_result"
    }
   ],
   "source": [
    "s[11]"
   ]
  },
  {
   "cell_type": "code",
   "execution_count": 23,
   "metadata": {},
   "outputs": [
    {
     "name": "stdout",
     "output_type": "stream",
     "text": [
      "1    0\n",
      "2    1\n",
      "3    2\n",
      "4    3\n",
      "5    4\n",
      "6    5\n",
      "dtype: int64\n"
     ]
    }
   ],
   "source": [
    "s = pd.Series([0,1,2,3,4,5],index=np.arange(1,7))\n",
    "print(s)"
   ]
  },
  {
   "cell_type": "code",
   "execution_count": 28,
   "metadata": {},
   "outputs": [
    {
     "name": "stdout",
     "output_type": "stream",
     "text": [
      "   0  1  2\n",
      "0  1  2  3\n",
      "1  4  5  6\n"
     ]
    }
   ],
   "source": [
    "df = pd.DataFrame([[1,2,3],[4,5,6]])\n",
    "print(df)"
   ]
  },
  {
   "cell_type": "code",
   "execution_count": 33,
   "metadata": {},
   "outputs": [
    {
     "name": "stdout",
     "output_type": "stream",
     "text": [
      "   0   1    2\n",
      "0  1   2  3.0\n",
      "1  4  56  NaN\n"
     ]
    },
    {
     "data": {
      "text/plain": [
       "0      int64\n",
       "1      int64\n",
       "2    float64\n",
       "dtype: object"
      ]
     },
     "execution_count": 33,
     "metadata": {},
     "output_type": "execute_result"
    }
   ],
   "source": [
    "df = pd.DataFrame([[1,2,3],[4,56]])\n",
    "print(df)\n",
    "df.dtypes"
   ]
  },
  {
   "cell_type": "code",
   "execution_count": 53,
   "metadata": {},
   "outputs": [
    {
     "name": "stdout",
     "output_type": "stream",
     "text": [
      "    A   B    C\n",
      "11  1   2  3.0\n",
      "12  4  56  NaN\n",
      "11    1\n",
      "12    4\n",
      "Name: A, dtype: int64\n",
      "11     2\n",
      "12    56\n",
      "Name: B, dtype: int64\n",
      "11    3.0\n",
      "12    NaN\n",
      "Name: C, dtype: float64\n"
     ]
    }
   ],
   "source": [
    "#df = pd.DataFrame([[1,2,3],[4,56]],index=[\"A\",\"B\"],columns=[11,12,13])\n",
    "df = pd.DataFrame([[1,2,3],[4,56]],columns=[\"A\",\"B\",\"C\"],index=[11,12])\n",
    "print(df)\n",
    "print(df.A)\n",
    "print(df.B)\n",
    "print(df.C)"
   ]
  },
  {
   "cell_type": "code",
   "execution_count": 63,
   "metadata": {},
   "outputs": [
    {
     "name": "stdout",
     "output_type": "stream",
     "text": [
      "    A   B    C\n",
      "11  1   2  3.0\n",
      "12  4  56  NaN\n",
      "A    1.0\n",
      "B    2.0\n",
      "C    3.0\n",
      "Name: 11, dtype: float64\n",
      "A    1.0\n",
      "B    2.0\n",
      "C    3.0\n",
      "Name: 11, dtype: float64\n"
     ]
    }
   ],
   "source": [
    "df = pd.DataFrame([[1,2,3],[4,56]],columns=[\"A\",\"B\",\"C\"],index=[11,12])\n",
    "print(df)\n",
    "print(df.loc[11])\n",
    "print(df.iloc[0])"
   ]
  },
  {
   "cell_type": "code",
   "execution_count": 70,
   "metadata": {},
   "outputs": [
    {
     "name": "stdout",
     "output_type": "stream",
     "text": [
      "    A   B    C\n",
      "11  1   2  3.0\n",
      "12  4  56  NaN\n",
      "1\n"
     ]
    }
   ],
   "source": [
    "df = pd.DataFrame([[1,2,3],[4,56]],columns=[\"A\",\"B\",\"C\"],index=[11,12])\n",
    "print(df)\n",
    "print(df.loc[11,\"A\"])"
   ]
  },
  {
   "cell_type": "code",
   "execution_count": 87,
   "metadata": {},
   "outputs": [
    {
     "name": "stdout",
     "output_type": "stream",
     "text": [
      "          A         B         C         D         E         F         G  \\\n",
      "0  1.000000  1.230769  1.461538  1.692308  1.923077  2.153846  2.384615   \n",
      "1  3.307692  3.538462  3.769231  4.000000  4.230769  4.461538  4.692308   \n",
      "2  5.615385  5.846154  6.076923  6.307692  6.538462  6.769231  7.000000   \n",
      "3  7.923077  8.153846  8.384615  8.615385  8.846154  9.076923  9.307692   \n",
      "\n",
      "          H         I          J  \n",
      "0  2.615385  2.846154   3.076923  \n",
      "1  4.923077  5.153846   5.384615  \n",
      "2  7.230769  7.461538   7.692308  \n",
      "3  9.538462  9.769231  10.000000  \n",
      "0    1.000000\n",
      "1    3.307692\n",
      "2    5.615385\n",
      "3    7.923077\n",
      "Name: A, dtype: float64\n"
     ]
    }
   ],
   "source": [
    "d1 = np.linspace(1,10,40)\n",
    "d2 = np.linspace(-3,10,40)\n",
    "#print(d1)\n",
    "#print(d2)\n",
    "d1 = d1.reshape(4,10)\n",
    "df1 = pd.DataFrame(d1,columns=[\"A\",\"B\",\"C\",\"D\",\"E\",\"F\",\"G\",\"H\",\"I\",\"J\"])\n",
    "print(df1)\n",
    "print(df1.A)"
   ]
  },
  {
   "cell_type": "code",
   "execution_count": 99,
   "metadata": {},
   "outputs": [
    {
     "data": {
      "text/html": [
       "<div>\n",
       "<style>\n",
       "    .dataframe thead tr:only-child th {\n",
       "        text-align: right;\n",
       "    }\n",
       "\n",
       "    .dataframe thead th {\n",
       "        text-align: left;\n",
       "    }\n",
       "\n",
       "    .dataframe tbody tr th {\n",
       "        vertical-align: top;\n",
       "    }\n",
       "</style>\n",
       "<table border=\"1\" class=\"dataframe\">\n",
       "  <thead>\n",
       "    <tr style=\"text-align: right;\">\n",
       "      <th></th>\n",
       "      <th>A1</th>\n",
       "      <th>B</th>\n",
       "      <th>C</th>\n",
       "      <th>D</th>\n",
       "      <th>E</th>\n",
       "      <th>F</th>\n",
       "      <th>G</th>\n",
       "      <th>H</th>\n",
       "      <th>I</th>\n",
       "      <th>J</th>\n",
       "    </tr>\n",
       "  </thead>\n",
       "  <tbody>\n",
       "    <tr>\n",
       "      <th>0</th>\n",
       "      <td>1.000000</td>\n",
       "      <td>1.230769</td>\n",
       "      <td>1.461538</td>\n",
       "      <td>1.692308</td>\n",
       "      <td>1.923077</td>\n",
       "      <td>2.153846</td>\n",
       "      <td>2.384615</td>\n",
       "      <td>2.615385</td>\n",
       "      <td>2.846154</td>\n",
       "      <td>3.076923</td>\n",
       "    </tr>\n",
       "    <tr>\n",
       "      <th>1</th>\n",
       "      <td>3.307692</td>\n",
       "      <td>3.538462</td>\n",
       "      <td>3.769231</td>\n",
       "      <td>4.000000</td>\n",
       "      <td>4.230769</td>\n",
       "      <td>4.461538</td>\n",
       "      <td>4.692308</td>\n",
       "      <td>4.923077</td>\n",
       "      <td>5.153846</td>\n",
       "      <td>5.384615</td>\n",
       "    </tr>\n",
       "    <tr>\n",
       "      <th>2</th>\n",
       "      <td>5.615385</td>\n",
       "      <td>5.846154</td>\n",
       "      <td>6.076923</td>\n",
       "      <td>6.307692</td>\n",
       "      <td>6.538462</td>\n",
       "      <td>6.769231</td>\n",
       "      <td>7.000000</td>\n",
       "      <td>7.230769</td>\n",
       "      <td>7.461538</td>\n",
       "      <td>7.692308</td>\n",
       "    </tr>\n",
       "    <tr>\n",
       "      <th>3</th>\n",
       "      <td>7.923077</td>\n",
       "      <td>8.153846</td>\n",
       "      <td>8.384615</td>\n",
       "      <td>8.615385</td>\n",
       "      <td>8.846154</td>\n",
       "      <td>9.076923</td>\n",
       "      <td>9.307692</td>\n",
       "      <td>9.538462</td>\n",
       "      <td>9.769231</td>\n",
       "      <td>10.000000</td>\n",
       "    </tr>\n",
       "  </tbody>\n",
       "</table>\n",
       "</div>"
      ],
      "text/plain": [
       "         A1         B         C         D         E         F         G  \\\n",
       "0  1.000000  1.230769  1.461538  1.692308  1.923077  2.153846  2.384615   \n",
       "1  3.307692  3.538462  3.769231  4.000000  4.230769  4.461538  4.692308   \n",
       "2  5.615385  5.846154  6.076923  6.307692  6.538462  6.769231  7.000000   \n",
       "3  7.923077  8.153846  8.384615  8.615385  8.846154  9.076923  9.307692   \n",
       "\n",
       "          H         I          J  \n",
       "0  2.615385  2.846154   3.076923  \n",
       "1  4.923077  5.153846   5.384615  \n",
       "2  7.230769  7.461538   7.692308  \n",
       "3  9.538462  9.769231  10.000000  "
      ]
     },
     "execution_count": 99,
     "metadata": {},
     "output_type": "execute_result"
    }
   ],
   "source": [
    "df1.rename(columns={\"A\":\"A1\"})"
   ]
  },
  {
   "cell_type": "code",
   "execution_count": 112,
   "metadata": {},
   "outputs": [
    {
     "name": "stdout",
     "output_type": "stream",
     "text": [
      "          A         B         C         D         E         F         G  \\\n",
      "1  3.307692  3.538462  3.769231  4.000000  4.230769  4.461538  4.692308   \n",
      "2  5.615385  5.846154  6.076923  6.307692  6.538462  6.769231  7.000000   \n",
      "3  7.923077  8.153846  8.384615  8.615385  8.846154  9.076923  9.307692   \n",
      "\n",
      "          H         I          J  \n",
      "1  4.923077  5.153846   5.384615  \n",
      "2  7.230769  7.461538   7.692308  \n",
      "3  9.538462  9.769231  10.000000  \n",
      "          A         B         C         D         E         F         G  \\\n",
      "0  1.000000  1.230769  1.461538  1.692308  1.923077  2.153846  2.384615   \n",
      "1  3.307692  3.538462  3.769231  4.000000  4.230769  4.461538  4.692308   \n",
      "2  5.615385  5.846154  6.076923  6.307692  6.538462  6.769231  7.000000   \n",
      "3  7.923077  8.153846  8.384615  8.615385  8.846154  9.076923  9.307692   \n",
      "\n",
      "          H         I          J  \n",
      "0  2.615385  2.846154   3.076923  \n",
      "1  4.923077  5.153846   5.384615  \n",
      "2  7.230769  7.461538   7.692308  \n",
      "3  9.538462  9.769231  10.000000  \n"
     ]
    }
   ],
   "source": [
    "print(df1.drop(0))\n",
    "print(df1)"
   ]
  },
  {
   "cell_type": "code",
   "execution_count": 117,
   "metadata": {},
   "outputs": [
    {
     "name": "stdout",
     "output_type": "stream",
     "text": [
      "          B         C         D         E         F         G         H  \\\n",
      "0  1.230769  1.461538  1.692308  1.923077  2.153846  2.384615  2.615385   \n",
      "1  3.538462  3.769231  4.000000  4.230769  4.461538  4.692308  4.923077   \n",
      "2  5.846154  6.076923  6.307692  6.538462  6.769231  7.000000  7.230769   \n",
      "3  8.153846  8.384615  8.615385  8.846154  9.076923  9.307692  9.538462   \n",
      "\n",
      "          I          J  \n",
      "0  2.846154   3.076923  \n",
      "1  5.153846   5.384615  \n",
      "2  7.461538   7.692308  \n",
      "3  9.769231  10.000000  \n",
      "          A         B         C         D         E         F         G  \\\n",
      "0  1.000000  1.230769  1.461538  1.692308  1.923077  2.153846  2.384615   \n",
      "1  3.307692  3.538462  3.769231  4.000000  4.230769  4.461538  4.692308   \n",
      "2  5.615385  5.846154  6.076923  6.307692  6.538462  6.769231  7.000000   \n",
      "3  7.923077  8.153846  8.384615  8.615385  8.846154  9.076923  9.307692   \n",
      "\n",
      "          H         I          J  \n",
      "0  2.615385  2.846154   3.076923  \n",
      "1  4.923077  5.153846   5.384615  \n",
      "2  7.230769  7.461538   7.692308  \n",
      "3  9.538462  9.769231  10.000000  \n"
     ]
    }
   ],
   "source": [
    "print(df1.drop(\"A\",axis=1))\n",
    "print(df1)"
   ]
  },
  {
   "cell_type": "code",
   "execution_count": 120,
   "metadata": {},
   "outputs": [
    {
     "name": "stdout",
     "output_type": "stream",
     "text": [
      "          B         C         F         G         H         I          J\n",
      "0  1.230769  1.461538  2.153846  2.384615  2.615385  2.846154   3.076923\n",
      "1  3.538462  3.769231  4.461538  4.692308  4.923077  5.153846   5.384615\n",
      "2  5.846154  6.076923  6.769231  7.000000  7.230769  7.461538   7.692308\n",
      "3  8.153846  8.384615  9.076923  9.307692  9.538462  9.769231  10.000000\n",
      "          A         B         C         D         E         F         G  \\\n",
      "0  1.000000  1.230769  1.461538  1.692308  1.923077  2.153846  2.384615   \n",
      "1  3.307692  3.538462  3.769231  4.000000  4.230769  4.461538  4.692308   \n",
      "2  5.615385  5.846154  6.076923  6.307692  6.538462  6.769231  7.000000   \n",
      "3  7.923077  8.153846  8.384615  8.615385  8.846154  9.076923  9.307692   \n",
      "\n",
      "          H         I          J  \n",
      "0  2.615385  2.846154   3.076923  \n",
      "1  4.923077  5.153846   5.384615  \n",
      "2  7.230769  7.461538   7.692308  \n",
      "3  9.538462  9.769231  10.000000  \n"
     ]
    }
   ],
   "source": [
    "print(df1.drop([\"A\",\"D\",\"E\"],axis=1))\n",
    "print(df1)"
   ]
  },
  {
   "cell_type": "code",
   "execution_count": 129,
   "metadata": {},
   "outputs": [
    {
     "name": "stdout",
     "output_type": "stream",
     "text": [
      "17.846153846153847\n",
      "4.461538461538462\n",
      "2.9792179586210903\n",
      "1.0\n",
      "7.92307692308\n",
      "4.461538461538462\n",
      "              A         B         C         D         E         F         G  \\\n",
      "count  4.000000  4.000000  4.000000  4.000000  4.000000  4.000000  4.000000   \n",
      "mean   4.461538  4.692308  4.923077  5.153846  5.384615  5.615385  5.846154   \n",
      "std    2.979218  2.979218  2.979218  2.979218  2.979218  2.979218  2.979218   \n",
      "min    1.000000  1.230769  1.461538  1.692308  1.923077  2.153846  2.384615   \n",
      "25%    2.730769  2.961538  3.192308  3.423077  3.653846  3.884615  4.115385   \n",
      "50%    4.461538  4.692308  4.923077  5.153846  5.384615  5.615385  5.846154   \n",
      "75%    6.192308  6.423077  6.653846  6.884615  7.115385  7.346154  7.576923   \n",
      "max    7.923077  8.153846  8.384615  8.615385  8.846154  9.076923  9.307692   \n",
      "\n",
      "              H         I          J  \n",
      "count  4.000000  4.000000   4.000000  \n",
      "mean   6.076923  6.307692   6.538462  \n",
      "std    2.979218  2.979218   2.979218  \n",
      "min    2.615385  2.846154   3.076923  \n",
      "25%    4.346154  4.576923   4.807692  \n",
      "50%    6.076923  6.307692   6.538462  \n",
      "75%    7.807692  8.038462   8.269231  \n",
      "max    9.538462  9.769231  10.000000  \n",
      "count    4.000000\n",
      "mean     4.461538\n",
      "std      2.979218\n",
      "min      1.000000\n",
      "25%      2.730769\n",
      "50%      4.461538\n",
      "75%      6.192308\n",
      "max      7.923077\n",
      "Name: A, dtype: float64\n",
      "count    10.000000\n",
      "mean      2.038462\n",
      "std       0.698689\n",
      "min       1.000000\n",
      "25%       1.519231\n",
      "50%       2.038462\n",
      "75%       2.557692\n",
      "max       3.076923\n",
      "Name: 0, dtype: float64\n"
     ]
    }
   ],
   "source": [
    "print(df1.A.sum())\n",
    "print(df1.A.mean())\n",
    "print(df1.A.std())\n",
    "print(df1.A.min())\n",
    "print(df1.A.max())\n",
    "print(df1.A.median())\n",
    "print(df1.describe())\n",
    "print(df1.A.describe())\n",
    "print(df1.loc[0].describe())\n"
   ]
  }
 ],
 "metadata": {
  "kernelspec": {
   "display_name": "Python 3",
   "language": "python",
   "name": "python3"
  },
  "language_info": {
   "codemirror_mode": {
    "name": "ipython",
    "version": 3
   },
   "file_extension": ".py",
   "mimetype": "text/x-python",
   "name": "python",
   "nbconvert_exporter": "python",
   "pygments_lexer": "ipython3",
   "version": "3.6.3"
  }
 },
 "nbformat": 4,
 "nbformat_minor": 2
}
