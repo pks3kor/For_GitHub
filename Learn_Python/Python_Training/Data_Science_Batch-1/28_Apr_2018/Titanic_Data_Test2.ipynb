{
 "cells": [
  {
   "cell_type": "code",
   "execution_count": 80,
   "metadata": {},
   "outputs": [],
   "source": [
    "import pandas as pd\n",
    "import numpy as np\n",
    "import matplotlib.pyplot as plt"
   ]
  },
  {
   "cell_type": "code",
   "execution_count": 81,
   "metadata": {},
   "outputs": [],
   "source": [
    "df = pd.read_csv(r\"C:\\Users\\Admin\\Desktop\\28_Apr_2018\\titanic_dataset.csv\")"
   ]
  },
  {
   "cell_type": "code",
   "execution_count": 82,
   "metadata": {},
   "outputs": [
    {
     "name": "stdout",
     "output_type": "stream",
     "text": [
      "   pclass  survived                            name     sex      age  sibsp  \\\n",
      "0     1.0       1.0   Allen, Miss. Elisabeth Walton  female  29.0000    0.0   \n",
      "1     1.0       1.0  Allison, Master. Hudson Trevor    male   0.9167    1.0   \n",
      "\n",
      "   parch  ticket      fare    cabin embarked boat  body  \\\n",
      "0    0.0   24160  211.3375       B5        S    2   NaN   \n",
      "1    2.0  113781  151.5500  C22 C26        S   11   NaN   \n",
      "\n",
      "                         home.dest  \n",
      "0                     St Louis, MO  \n",
      "1  Montreal, PQ / Chesterville, ON  \n"
     ]
    }
   ],
   "source": [
    "print df.head(2)"
   ]
  },
  {
   "cell_type": "code",
   "execution_count": 83,
   "metadata": {},
   "outputs": [
    {
     "name": "stdout",
     "output_type": "stream",
     "text": [
      "      pclass  survived     sex      age  sibsp  parch embarked\n",
      "0        1.0       1.0  female  29.0000    0.0    0.0        S\n",
      "1        1.0       1.0    male   0.9167    1.0    2.0        S\n",
      "2        1.0       0.0  female   2.0000    1.0    2.0        S\n",
      "3        1.0       0.0    male  30.0000    1.0    2.0        S\n",
      "4        1.0       0.0  female  25.0000    1.0    2.0        S\n",
      "5        1.0       1.0    male  48.0000    0.0    0.0        S\n",
      "6        1.0       1.0  female  63.0000    1.0    0.0        S\n",
      "7        1.0       0.0    male  39.0000    0.0    0.0        S\n",
      "8        1.0       1.0  female  53.0000    2.0    0.0        S\n",
      "9        1.0       0.0    male  71.0000    0.0    0.0        C\n",
      "10       1.0       0.0    male  47.0000    1.0    0.0        C\n",
      "11       1.0       1.0  female  18.0000    1.0    0.0        C\n",
      "12       1.0       1.0  female  24.0000    0.0    0.0        C\n",
      "13       1.0       1.0  female  26.0000    0.0    0.0        S\n",
      "14       1.0       1.0    male  80.0000    0.0    0.0        S\n",
      "15       1.0       0.0    male      NaN    0.0    0.0        S\n",
      "16       1.0       0.0    male  24.0000    0.0    1.0        C\n",
      "17       1.0       1.0  female  50.0000    0.0    1.0        C\n",
      "18       1.0       1.0  female  32.0000    0.0    0.0        C\n",
      "19       1.0       0.0    male  36.0000    0.0    0.0        C\n",
      "20       1.0       1.0    male  37.0000    1.0    1.0        S\n",
      "21       1.0       1.0  female  47.0000    1.0    1.0        S\n",
      "22       1.0       1.0    male  26.0000    0.0    0.0        C\n",
      "23       1.0       1.0  female  42.0000    0.0    0.0        C\n",
      "24       1.0       1.0  female  29.0000    0.0    0.0        S\n",
      "25       1.0       0.0    male  25.0000    0.0    0.0        C\n",
      "26       1.0       1.0    male  25.0000    1.0    0.0        C\n",
      "27       1.0       1.0  female  19.0000    1.0    0.0        C\n",
      "28       1.0       1.0  female  35.0000    0.0    0.0        S\n",
      "29       1.0       1.0    male  28.0000    0.0    0.0        S\n",
      "...      ...       ...     ...      ...    ...    ...      ...\n",
      "1280     3.0       0.0    male  22.0000    0.0    0.0        S\n",
      "1281     3.0       0.0    male  22.0000    0.0    0.0        S\n",
      "1282     3.0       0.0    male      NaN    0.0    0.0        S\n",
      "1283     3.0       0.0    male      NaN    0.0    0.0        S\n",
      "1284     3.0       0.0    male      NaN    0.0    0.0        S\n",
      "1285     3.0       0.0    male  32.5000    0.0    0.0        S\n",
      "1286     3.0       1.0  female  38.0000    0.0    0.0        C\n",
      "1287     3.0       0.0    male  51.0000    0.0    0.0        S\n",
      "1288     3.0       0.0    male  18.0000    1.0    0.0        S\n",
      "1289     3.0       0.0    male  21.0000    1.0    0.0        S\n",
      "1290     3.0       1.0  female  47.0000    1.0    0.0        S\n",
      "1291     3.0       0.0    male      NaN    0.0    0.0        S\n",
      "1292     3.0       0.0    male      NaN    0.0    0.0        S\n",
      "1293     3.0       0.0    male      NaN    0.0    0.0        S\n",
      "1294     3.0       0.0    male  28.5000    0.0    0.0        S\n",
      "1295     3.0       0.0    male  21.0000    0.0    0.0        S\n",
      "1296     3.0       0.0    male  27.0000    0.0    0.0        S\n",
      "1297     3.0       0.0    male      NaN    0.0    0.0        S\n",
      "1298     3.0       0.0    male  36.0000    0.0    0.0        S\n",
      "1299     3.0       0.0    male  27.0000    1.0    0.0        C\n",
      "1300     3.0       1.0  female  15.0000    1.0    0.0        C\n",
      "1301     3.0       0.0    male  45.5000    0.0    0.0        C\n",
      "1302     3.0       0.0    male      NaN    0.0    0.0        C\n",
      "1303     3.0       0.0    male      NaN    0.0    0.0        C\n",
      "1304     3.0       0.0  female  14.5000    1.0    0.0        C\n",
      "1305     3.0       0.0  female      NaN    1.0    0.0        C\n",
      "1306     3.0       0.0    male  26.5000    0.0    0.0        C\n",
      "1307     3.0       0.0    male  27.0000    0.0    0.0        C\n",
      "1308     3.0       0.0    male  29.0000    0.0    0.0        S\n",
      "1309     NaN       NaN     NaN      NaN    NaN    NaN      NaN\n",
      "\n",
      "[1310 rows x 7 columns]\n"
     ]
    }
   ],
   "source": [
    "df = df.drop([\"name\",\"ticket\",\"fare\",\"cabin\",\"boat\",\"body\",\"home.dest\"],axis=1)\n",
    "#df = df.drop([\"name\"],axis=1)\n",
    "print df"
   ]
  },
  {
   "cell_type": "code",
   "execution_count": 94,
   "metadata": {},
   "outputs": [
    {
     "name": "stdout",
     "output_type": "stream",
     "text": [
      "['pclass', 'survived', 'sex', 'sibsp', 'parch', 'embarked']\n",
      "      pclass  survived     sex        age  sibsp  parch embarked\n",
      "0        1.0       1.0  female  29.000000    0.0    0.0        S\n",
      "1        1.0       1.0    male   0.916700    1.0    2.0        S\n",
      "2        1.0       0.0  female   2.000000    1.0    2.0        S\n",
      "3        1.0       0.0    male  30.000000    1.0    2.0        S\n",
      "4        1.0       0.0  female  25.000000    1.0    2.0        S\n",
      "5        1.0       1.0    male  48.000000    0.0    0.0        S\n",
      "6        1.0       1.0  female  63.000000    1.0    0.0        S\n",
      "7        1.0       0.0    male  39.000000    0.0    0.0        S\n",
      "8        1.0       1.0  female  53.000000    2.0    0.0        S\n",
      "9        1.0       0.0    male  71.000000    0.0    0.0        C\n",
      "10       1.0       0.0    male  47.000000    1.0    0.0        C\n",
      "11       1.0       1.0  female  18.000000    1.0    0.0        C\n",
      "12       1.0       1.0  female  24.000000    0.0    0.0        C\n",
      "13       1.0       1.0  female  26.000000    0.0    0.0        S\n",
      "14       1.0       1.0    male  80.000000    0.0    0.0        S\n",
      "15       1.0       0.0    male  29.881135    0.0    0.0        S\n",
      "16       1.0       0.0    male  24.000000    0.0    1.0        C\n",
      "17       1.0       1.0  female  50.000000    0.0    1.0        C\n",
      "18       1.0       1.0  female  32.000000    0.0    0.0        C\n",
      "19       1.0       0.0    male  36.000000    0.0    0.0        C\n",
      "20       1.0       1.0    male  37.000000    1.0    1.0        S\n",
      "21       1.0       1.0  female  47.000000    1.0    1.0        S\n",
      "22       1.0       1.0    male  26.000000    0.0    0.0        C\n",
      "23       1.0       1.0  female  42.000000    0.0    0.0        C\n",
      "24       1.0       1.0  female  29.000000    0.0    0.0        S\n",
      "25       1.0       0.0    male  25.000000    0.0    0.0        C\n",
      "26       1.0       1.0    male  25.000000    1.0    0.0        C\n",
      "27       1.0       1.0  female  19.000000    1.0    0.0        C\n",
      "28       1.0       1.0  female  35.000000    0.0    0.0        S\n",
      "29       1.0       1.0    male  28.000000    0.0    0.0        S\n",
      "...      ...       ...     ...        ...    ...    ...      ...\n",
      "1280     3.0       0.0    male  22.000000    0.0    0.0        S\n",
      "1281     3.0       0.0    male  22.000000    0.0    0.0        S\n",
      "1282     3.0       0.0    male  29.881135    0.0    0.0        S\n",
      "1283     3.0       0.0    male  29.881135    0.0    0.0        S\n",
      "1284     3.0       0.0    male  29.881135    0.0    0.0        S\n",
      "1285     3.0       0.0    male  32.500000    0.0    0.0        S\n",
      "1286     3.0       1.0  female  38.000000    0.0    0.0        C\n",
      "1287     3.0       0.0    male  51.000000    0.0    0.0        S\n",
      "1288     3.0       0.0    male  18.000000    1.0    0.0        S\n",
      "1289     3.0       0.0    male  21.000000    1.0    0.0        S\n",
      "1290     3.0       1.0  female  47.000000    1.0    0.0        S\n",
      "1291     3.0       0.0    male  29.881135    0.0    0.0        S\n",
      "1292     3.0       0.0    male  29.881135    0.0    0.0        S\n",
      "1293     3.0       0.0    male  29.881135    0.0    0.0        S\n",
      "1294     3.0       0.0    male  28.500000    0.0    0.0        S\n",
      "1295     3.0       0.0    male  21.000000    0.0    0.0        S\n",
      "1296     3.0       0.0    male  27.000000    0.0    0.0        S\n",
      "1297     3.0       0.0    male  29.881135    0.0    0.0        S\n",
      "1298     3.0       0.0    male  36.000000    0.0    0.0        S\n",
      "1299     3.0       0.0    male  27.000000    1.0    0.0        C\n",
      "1300     3.0       1.0  female  15.000000    1.0    0.0        C\n",
      "1301     3.0       0.0    male  45.500000    0.0    0.0        C\n",
      "1302     3.0       0.0    male  29.881135    0.0    0.0        C\n",
      "1303     3.0       0.0    male  29.881135    0.0    0.0        C\n",
      "1304     3.0       0.0  female  14.500000    1.0    0.0        C\n",
      "1305     3.0       0.0  female  29.881135    1.0    0.0        C\n",
      "1306     3.0       0.0    male  26.500000    0.0    0.0        C\n",
      "1307     3.0       0.0    male  27.000000    0.0    0.0        C\n",
      "1308     3.0       0.0    male  29.000000    0.0    0.0        S\n",
      "1309     3.0       0.0    male  29.881135    0.0    0.0        S\n",
      "\n",
      "[1310 rows x 7 columns]\n"
     ]
    }
   ],
   "source": [
    "#print df.columns\n",
    "#print df.columns[:3]\n",
    "#print df.columns[4:]\n",
    "col = list(df.columns[:3])+list(df.columns[4:])\n",
    "print col\n",
    "#rint df.age.mean()\n",
    "for cl in col: # for all columns except age, replace NN with Mode\n",
    "    df[cl] = df[cl].fillna(df[cl].mode()[0])\n",
    "#print df\n",
    "df.age = df.age.fillna(df.age.mean())\n",
    "print df"
   ]
  }
 ],
 "metadata": {
  "kernelspec": {
   "display_name": "Python 3",
   "language": "python",
   "name": "python3"
  },
  "language_info": {
   "codemirror_mode": {
    "name": "ipython",
    "version": 3
   },
   "file_extension": ".py",
   "mimetype": "text/x-python",
   "name": "python",
   "nbconvert_exporter": "python",
   "pygments_lexer": "ipython3",
   "version": "3.6.4"
  }
 },
 "nbformat": 4,
 "nbformat_minor": 2
}
