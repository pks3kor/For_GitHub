{
 "cells": [
  {
   "cell_type": "code",
   "execution_count": 3,
   "metadata": {},
   "outputs": [],
   "source": [
    "import pandas as pd\n",
    "import numpy as np\n",
    "import matplotlib.pyplot as plt"
   ]
  },
  {
   "cell_type": "code",
   "execution_count": 4,
   "metadata": {},
   "outputs": [],
   "source": [
    "df = pd.read_csv(r\"C:\\Users\\Admin\\Desktop\\29_Apr_2018\\education_sta.csv\")"
   ]
  },
  {
   "cell_type": "code",
   "execution_count": 48,
   "metadata": {},
   "outputs": [
    {
     "name": "stdout",
     "output_type": "stream",
     "text": [
      "   Year  Agriculture  Architecture  Art and Performance    Biology  Business  \\\n",
      "0  1970     4.229798     11.921005                 59.7  29.088363  9.064439   \n",
      "1  1971     5.452797     12.003106                 59.9  29.394403  9.503187   \n",
      "\n",
      "   Communications and Journalism  Computer Science  Education  Engineering  \\\n",
      "0                           35.3              13.6  74.535328          0.8   \n",
      "1                           35.5              13.6  74.149204          1.0   \n",
      "\n",
      "     English  Foreign Languages  Health Professions  Math and Statistics  \\\n",
      "0  65.570923               73.8                77.1                 38.0   \n",
      "1  64.556485               73.9                75.5                 39.0   \n",
      "\n",
      "   Physical Sciences  Psychology  Public Administration  \\\n",
      "0               13.8        44.4                   68.4   \n",
      "1               14.9        46.2                   65.5   \n",
      "\n",
      "   Social Sciences and History  \n",
      "0                         36.8  \n",
      "1                         36.2  \n",
      "AxesSubplot(0.125,0.125;0.775x0.755)\n"
     ]
    },
    {
     "data": {
      "image/png": "[encoded data removed]",
      "text/plain": [
       "<matplotlib.figure.Figure at 0xc99cc50>"
      ]
     },
     "metadata": {},
     "output_type": "display_data"
    }
   ],
   "source": [
    "print(df.head(2))\n",
    "##print(df.columns.size)\n",
    "#print(df.tail(2))\n",
    "n1 = df.loc[:,[\"Architecture\",\"Biology\",\"Agriculture\"]]\n",
    "print(n1.plot(kind=\"bar\"))"
   ]
  }
 ],
 "metadata": {
  "kernelspec": {
   "display_name": "Python 2",
   "language": "python",
   "name": "python2"
  },
  "language_info": {
   "codemirror_mode": {
    "name": "ipython",
    "version": 2
   },
   "file_extension": ".py",
   "mimetype": "text/x-python",
   "name": "python",
   "nbconvert_exporter": "python",
   "pygments_lexer": "ipython2",
   "version": "2.7.14"
  }
 },
 "nbformat": 4,
 "nbformat_minor": 2
}
