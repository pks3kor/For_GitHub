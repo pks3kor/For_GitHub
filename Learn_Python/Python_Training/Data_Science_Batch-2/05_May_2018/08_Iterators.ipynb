{
 "cells": [
  {
   "cell_type": "markdown",
   "metadata": {},
   "source": [
    "# Iterators\n",
    "List, Tuple, Dictionary"
   ]
  },
  {
   "cell_type": "code",
   "execution_count": 4,
   "metadata": {},
   "outputs": [
    {
     "name": "stdout",
     "output_type": "stream",
     "text": [
      "<class 'list_iterator'>\n",
      "<class 'tuple_iterator'>\n",
      "<class 'dict_keyiterator'>\n"
     ]
    }
   ],
   "source": [
    "l = [1,2,3,4,5]\n",
    "t = (1,2,3,4,5)\n",
    "d = {1:1,2:2,3:3,4:4,5:5}\n",
    "l_itr = iter(l)\n",
    "t_itr = iter(t)\n",
    "d_itr = iter(d)\n",
    "print(type(l_itr))\n",
    "print(type(t_itr))\n",
    "print(type(d_itr))\n"
   ]
  }
 ],
 "metadata": {
  "kernelspec": {
   "display_name": "Python 3",
   "language": "python",
   "name": "python3"
  },
  "language_info": {
   "codemirror_mode": {
    "name": "ipython",
    "version": 3
   },
   "file_extension": ".py",
   "mimetype": "text/x-python",
   "name": "python",
   "nbconvert_exporter": "python",
   "pygments_lexer": "ipython3",
   "version": "3.6.4"
  }
 },
 "nbformat": 4,
 "nbformat_minor": 2
}
