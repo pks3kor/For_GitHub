{
 "cells": [
  {
   "cell_type": "markdown",
   "metadata": {},
   "source": [
    "# File I/O"
   ]
  },
  {
   "cell_type": "markdown",
   "metadata": {},
   "source": [
    "### Supported mode:\n",
    "    r,r+,rb,rb+\n",
    "    w,w+,wb,wb+\n",
    "    a,a+,ab,ab+"
   ]
  },
  {
   "cell_type": "code",
   "execution_count": null,
   "metadata": {
    "collapsed": true
   },
   "outputs": [],
   "source": [
    "# fh = open(<filename>,<mode>)"
   ]
  },
  {
   "cell_type": "code",
   "execution_count": 100,
   "metadata": {},
   "outputs": [
    {
     "name": "stdout",
     "output_type": "stream",
     "text": [
      "['This is line1\\n', 'This is line2\\n', 'This is line3\\n', 'This is line4\\n', 'This is line5\\n']\n",
      "False\n",
      "r\n",
      "True\n",
      "r\n"
     ]
    }
   ],
   "source": [
    "fh = open(r\"C:\\Users\\Admin\\Desktop\\06_May_2018\\Test1.txt\",\"r\")\n",
    "#print(fh)\n",
    "#print(fh.read())\n",
    "#fh.read(20)\n",
    "#print(fh.readline(2))\n",
    "print(fh.readlines())\n",
    "#rint(fh.read(2))\n",
    "#rint(fh.readline(2))\n",
    "#rint(fh.read(2))\n",
    "print(fh.closed)\n",
    "print(fh.mode)\n",
    "fh.close()\n",
    "print(fh.closed)\n",
    "print(fh.mode)"
   ]
  },
  {
   "cell_type": "code",
   "execution_count": 101,
   "metadata": {},
   "outputs": [
    {
     "name": "stdout",
     "output_type": "stream",
     "text": [
      "This is line1\n",
      "\n"
     ]
    }
   ],
   "source": [
    "fh = open(r\"C:\\Users\\Admin\\Desktop\\06_May_2018\\Test1.txt\",\"r\")\n",
    "for it in fh:\n",
    "    if \"line1\" in it:\n",
    "        print(it)\n",
    "    #print (line)"
   ]
  },
  {
   "cell_type": "code",
   "execution_count": 102,
   "metadata": {},
   "outputs": [
    {
     "name": "stdout",
     "output_type": "stream",
     "text": [
      "0\n",
      "Th\n",
      "2\n",
      "is is line1\n",
      "\n",
      "0\n",
      "This is line1\n",
      "\n",
      "15\n"
     ]
    }
   ],
   "source": [
    "fh = open(r\"C:\\Users\\Admin\\Desktop\\06_May_2018\\Test1.txt\")\n",
    "print(fh.tell())\n",
    "print(fh.read(2))\n",
    "print(fh.tell())\n",
    "print(fh.readline())\n",
    "fh.seek(0)\n",
    "print(fh.tell())\n",
    "print(fh.readline())\n",
    "print(fh.tell())\n",
    "#seek(<offset>,<position[0|1|2]>)\n"
   ]
  },
  {
   "cell_type": "code",
   "execution_count": 103,
   "metadata": {
    "scrolled": true
   },
   "outputs": [
    {
     "name": "stdout",
     "output_type": "stream",
     "text": [
      "b'This is line1\\r\\n'\n",
      "b'is line2\\r\\n'\n"
     ]
    }
   ],
   "source": [
    "fh = open(r\"C:\\Users\\Admin\\Desktop\\06_May_2018\\Test1.txt\",\"rb\")\n",
    "print(fh.readline())\n",
    "fh.seek(5,1)\n",
    "print(fh.readline())"
   ]
  },
  {
   "cell_type": "code",
   "execution_count": 104,
   "metadata": {},
   "outputs": [
    {
     "data": {
      "text/plain": [
       "7"
      ]
     },
     "execution_count": 104,
     "metadata": {},
     "output_type": "execute_result"
    }
   ],
   "source": [
    "fh = open(r\"C:\\Users\\Admin\\Desktop\\06_May_2018\\Test2.txt\",\"w\")\n",
    "fh.write(\"write1\\n\")\n",
    "fh.write(\"write2\\n\")\n",
    "fh.write(\"write3\\n\")"
   ]
  },
  {
   "cell_type": "code",
   "execution_count": 105,
   "metadata": {},
   "outputs": [
    {
     "name": "stdout",
     "output_type": "stream",
     "text": [
      "C:\\\n"
     ]
    },
    {
     "data": {
      "text/plain": [
       "7"
      ]
     },
     "execution_count": 105,
     "metadata": {},
     "output_type": "execute_result"
    }
   ],
   "source": [
    "print(os.getcwd())\n",
    "fh = open(r\"C:\\Users\\Admin\\Desktop\\06_May_2018\\Test2.txt\",\"a\")\n",
    "fh.write(\"write1\\n\")\n",
    "fh.write(\"write2\\n\")\n",
    "fh.write(\"write3\\n\")\n",
    "#fh.close()"
   ]
  },
  {
   "cell_type": "code",
   "execution_count": 106,
   "metadata": {},
   "outputs": [
    {
     "name": "stdout",
     "output_type": "stream",
     "text": [
      "\n",
      "C:\\\n",
      "None\n",
      "C:\\\n"
     ]
    }
   ],
   "source": [
    "import os\n",
    "print()\n",
    "print(os.getcwd())\n",
    "print(os.chdir(\"C:\\\\\"))\n",
    "print(os.getcwd())\n",
    "os.rename(r\"C:\\Users\\Admin\\Desktop\\06_May_2018\\Test1.txt\",r\"C:\\Users\\Admin\\Desktop\\06_May_2018\\Test111.txt\")"
   ]
  },
  {
   "cell_type": "code",
   "execution_count": 132,
   "metadata": {},
   "outputs": [
    {
     "name": "stdout",
     "output_type": "stream",
     "text": [
      "This is line2\n",
      "This is line4\n",
      "This is line6\n",
      "This is line8\n",
      "This is line10\n"
     ]
    }
   ],
   "source": [
    "fh = open(r\"C:\\Users\\Admin\\Desktop\\06_May_2018\\Test3.txt\")\n",
    "fh2 = open(r\"C:\\Users\\Admin\\Desktop\\06_May_2018\\Test4.txt\",\"w\")\n",
    "#print(fh.read())\n",
    "for line in fh:\n",
    "    if line != \"\\n\":\n",
    "        #print(line[-2])\n",
    "        if int(line[-2])%2==0:\n",
    "            print(line,end=\"\")\n",
    "        else:\n",
    "            fh2.write(line)\n",
    "            #print(line,end=\"\")\n",
    "            "
   ]
  }
 ],
 "metadata": {
  "kernelspec": {
   "display_name": "Python 3",
   "language": "python",
   "name": "python3"
  },
  "language_info": {
   "codemirror_mode": {
    "name": "ipython",
    "version": 3
   },
   "file_extension": ".py",
   "mimetype": "text/x-python",
   "name": "python",
   "nbconvert_exporter": "python",
   "pygments_lexer": "ipython3",
   "version": "3.6.3"
  }
 },
 "nbformat": 4,
 "nbformat_minor": 2
}
