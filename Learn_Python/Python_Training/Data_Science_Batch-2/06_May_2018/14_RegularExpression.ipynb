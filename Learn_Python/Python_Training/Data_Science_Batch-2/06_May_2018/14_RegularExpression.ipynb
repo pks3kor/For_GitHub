{
 "cells": [
  {
   "cell_type": "markdown",
   "metadata": {},
   "source": [
    "# Regular Expressions"
   ]
  },
  {
   "cell_type": "code",
   "execution_count": 1,
   "metadata": {
    "collapsed": true
   },
   "outputs": [],
   "source": [
    "#syntax\n",
    "#match: re.match(<pattern>,<str>,<flags>)\n",
    "#search: re.search(<pattern>,<str>,<flags>)\n",
    "#sub: re.sub(\"str\",\"new_str\",<line where to replace>)"
   ]
  },
  {
   "cell_type": "code",
   "execution_count": 5,
   "metadata": {},
   "outputs": [
    {
     "name": "stdout",
     "output_type": "stream",
     "text": [
      "None\n",
      "<_sre.SRE_Match object; span=(0, 7), match='This is'>\n"
     ]
    }
   ],
   "source": [
    "import re\n",
    "tmp = \"This is Learnbay Class\"\n",
    "mObj = re.match(\"Learnbay\",tmp)\n",
    "print(mObj)\n",
    "mObj = re.match(\"This is\",tmp)\n",
    "print(mObj)"
   ]
  },
  {
   "cell_type": "code",
   "execution_count": 13,
   "metadata": {},
   "outputs": [
    {
     "name": "stdout",
     "output_type": "stream",
     "text": [
      "Learnbay Class\n",
      "Learnbay\n",
      "Class\n",
      "('Learnbay', 'Class')\n"
     ]
    }
   ],
   "source": [
    "tmp = \"This is Learnbay Class\"\n",
    "sObj = re.search(\"(learnbay) (Class)\",tmp,re.I)\n",
    "if sObj:\n",
    "    print(sObj.group())\n",
    "    print(sObj.group(1))\n",
    "    print(sObj.group(2))\n",
    "    print(sObj.groups())"
   ]
  },
  {
   "cell_type": "code",
   "execution_count": 19,
   "metadata": {},
   "outputs": [
    {
     "name": "stdout",
     "output_type": "stream",
     "text": [
      "4\n"
     ]
    }
   ],
   "source": [
    "tmp = \"This is Learnbay Learnbay Learnbay Learnbay Class\"\n",
    "lst = re.findall(\"learnbay\",tmp,re.I)\n",
    "print(len(lst))\n"
   ]
  },
  {
   "cell_type": "code",
   "execution_count": 40,
   "metadata": {},
   "outputs": [
    {
     "name": "stdout",
     "output_type": "stream",
     "text": [
      "This is Learnbay Class\n"
     ]
    }
   ],
   "source": [
    "tmp = \"This is Learnbay Class\"\n",
    "#sObj = re.search(\"l.*y\",tmp,re.I)\n",
    "#sObj = re.search(\".+\",tmp,re.I)\n",
    "#sObj = re.search(\"(\\w*\\W)*\",tmp,re.I)\n",
    "sObj = re.search(\"(\\w*\\W*)*\",tmp,re.I)\n",
    "if sObj:\n",
    "    print(sObj.group())"
   ]
  },
  {
   "cell_type": "code",
   "execution_count": 63,
   "metadata": {},
   "outputs": [
    {
     "name": "stdout",
     "output_type": "stream",
     "text": [
      "('111 ', '444')\n"
     ]
    }
   ],
   "source": [
    "#tmp = \"111111111111111111222333444\"\n",
    "tmp = \"111 111 111 111 111 111 222 333 444\"\n",
    "#sObj = re.search(\"(111 )(\\\\1)(\\\\2)(\\\\1)(\\\\3)(\\\\5)\",tmp)\n",
    "sObj = re.search(\"(111 )\\\\1\\\\1\\\\1\\\\1\\\\1.*(444)\",tmp)\n",
    "if sObj:\n",
    "    print(sObj.groups())"
   ]
  },
  {
   "cell_type": "code",
   "execution_count": 78,
   "metadata": {},
   "outputs": [
    {
     "name": "stdout",
     "output_type": "stream",
     "text": [
      "@#$%\n"
     ]
    }
   ],
   "source": [
    "tmp = \"ABCDEF@#$%1234\"\n",
    "#sObj = re.search(\"\\W.*\",tmp)\n",
    "#sObj = re.search(\"\\d.*\",tmp)\n",
    "sObj = re.search(\"\\w*(\\W*)\",tmp)\n",
    "if sObj:\n",
    "    print(sObj.group(1))\n"
   ]
  },
  {
   "cell_type": "code",
   "execution_count": 84,
   "metadata": {},
   "outputs": [
    {
     "name": "stdout",
     "output_type": "stream",
     "text": [
      "class1\n",
      "class2\n",
      "class3\n"
     ]
    }
   ],
   "source": [
    "tmp = \"This is class1\\nclass2\\nclass3\"\n",
    "sObj = re.search(\"CLASS.*\",tmp,re.S|re.I)\n",
    "if sObj:\n",
    "    print(sObj.group())\n"
   ]
  }
 ],
 "metadata": {
  "kernelspec": {
   "display_name": "Python 3",
   "language": "python",
   "name": "python3"
  },
  "language_info": {
   "codemirror_mode": {
    "name": "ipython",
    "version": 3
   },
   "file_extension": ".py",
   "mimetype": "text/x-python",
   "name": "python",
   "nbconvert_exporter": "python",
   "pygments_lexer": "ipython3",
   "version": "3.6.3"
  }
 },
 "nbformat": 4,
 "nbformat_minor": 2
}
