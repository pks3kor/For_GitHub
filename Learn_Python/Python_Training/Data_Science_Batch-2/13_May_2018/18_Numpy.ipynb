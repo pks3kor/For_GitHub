{
 "cells": [
  {
   "cell_type": "markdown",
   "metadata": {},
   "source": [
    "# Numpy\n",
    "Topics to be covered: \n",
    "Introduction to Numpy. Array Creation,Printing Arrays Basic Operations- Indexing, Slicing and Iterating Shape Manipulation - Changing shape,stacking and spliting of array Vector stacking"
   ]
  },
  {
   "cell_type": "code",
   "execution_count": 2,
   "metadata": {},
   "outputs": [],
   "source": [
    "import numpy as np"
   ]
  },
  {
   "cell_type": "code",
   "execution_count": 10,
   "metadata": {},
   "outputs": [
    {
     "name": "stdout",
     "output_type": "stream",
     "text": [
      "[]\n",
      "float64\n",
      "(0,)\n",
      "0\n",
      "8\n",
      "1\n"
     ]
    }
   ],
   "source": [
    "#tmp = np.array(())\n",
    "#print(tmp)\n",
    "tmp1 = np.array([])\n",
    "print(tmp1)\n",
    "print(tmp1.dtype)\n",
    "print(tmp1.shape)\n",
    "print(tmp1.size)\n",
    "print(tmp1.itemsize)\n",
    "print(tmp1.ndim)"
   ]
  },
  {
   "cell_type": "code",
   "execution_count": 11,
   "metadata": {},
   "outputs": [
    {
     "name": "stdout",
     "output_type": "stream",
     "text": [
      "[1 2 3]\n",
      "int32\n",
      "(3,)\n",
      "3\n",
      "4\n",
      "1\n"
     ]
    }
   ],
   "source": [
    "tmp1 = np.array([1,2,3])\n",
    "print(tmp1)\n",
    "print(tmp1.dtype)\n",
    "print(tmp1.shape)\n",
    "print(tmp1.size)\n",
    "print(tmp1.itemsize)\n",
    "print(tmp1.ndim)"
   ]
  },
  {
   "cell_type": "code",
   "execution_count": 19,
   "metadata": {},
   "outputs": [
    {
     "name": "stdout",
     "output_type": "stream",
     "text": [
      "[[1. 2. 3.]\n",
      " [4. 5. 6.]\n",
      " [1. 2. 3.]]\n",
      "float64\n",
      "(3, 3)\n",
      "9\n",
      "8\n",
      "2\n"
     ]
    }
   ],
   "source": [
    "tmp1 = np.array([[1,2,3],[4,5,6],[1,2.,3]])\n",
    "#tmp1 = np.array([[1,2,3],[4,5,6],[1,2,3]],dtype=\"float64\")\n",
    "print(tmp1)\n",
    "print(tmp1.dtype)\n",
    "print(tmp1.shape)\n",
    "print(tmp1.size)\n",
    "print(tmp1.itemsize)\n",
    "print(tmp1.ndim)"
   ]
  },
  {
   "cell_type": "code",
   "execution_count": 26,
   "metadata": {},
   "outputs": [
    {
     "name": "stdout",
     "output_type": "stream",
     "text": [
      "[[1. 2. 3.]\n",
      " [4. 5. 6.]\n",
      " [1. 2. 3.]\n",
      " [1. 2. 3.]]\n",
      "(4, 3)\n",
      "[[1. 2. 3. 4.]\n",
      " [5. 6. 1. 2.]\n",
      " [3. 1. 2. 3.]]\n",
      "(3, 4)\n"
     ]
    }
   ],
   "source": [
    "tmp1 = np.array([[1,2,3],[4,5,6],[1,2.,3],[1,2.,3]])\n",
    "print(tmp1)\n",
    "print(tmp1.shape)\n",
    "tmp2 =tmp1.reshape((3,4))\n",
    "print(tmp2)\n",
    "print(tmp2.shape)"
   ]
  },
  {
   "cell_type": "code",
   "execution_count": 32,
   "metadata": {},
   "outputs": [
    {
     "name": "stdout",
     "output_type": "stream",
     "text": [
      "[[1. 2. 3.]\n",
      " [4. 5. 6.]\n",
      " [1. 2. 3.]\n",
      " [1. 2. 3.]]\n",
      "[[1. 4. 1. 1.]\n",
      " [2. 5. 2. 2.]\n",
      " [3. 6. 3. 3.]]\n",
      "[[1. 2. 3.]\n",
      " [4. 5. 6.]\n",
      " [1. 2. 3.]\n",
      " [1. 2. 3.]]\n"
     ]
    }
   ],
   "source": [
    "tmp1 = np.array([[1,2,3],[4,5,6],[1,2.,3],[1,2.,3]])\n",
    "print(tmp1)\n",
    "print(tmp1.T)\n",
    "print(tmp1)\n",
    "#tmp1.transpose()"
   ]
  },
  {
   "cell_type": "code",
   "execution_count": 42,
   "metadata": {},
   "outputs": [
    {
     "name": "stdout",
     "output_type": "stream",
     "text": [
      "[[1. 2. 3.]\n",
      " [4. 5. 6.]\n",
      " [1. 2. 3.]\n",
      " [1. 2. 3.]]\n",
      "[[1. 2. 3.]\n",
      " [4. 5. 6.]\n",
      " [1. 2. 3.]\n",
      " [1. 2. 3.]]\n",
      "[2. 5. 2. 2.]\n",
      "[2. 5. 2. 2.]\n",
      "[[1. 2.]\n",
      " [4. 5.]\n",
      " [1. 2.]\n",
      " [1. 2.]]\n",
      "[[5.]\n",
      " [2.]\n",
      " [2.]]\n",
      "[[3. 2. 1.]\n",
      " [6. 5. 4.]\n",
      " [3. 2. 1.]\n",
      " [3. 2. 1.]]\n",
      "[[3. 2. 1.]\n",
      " [3. 2. 1.]\n",
      " [6. 5. 4.]\n",
      " [3. 2. 1.]]\n",
      "[[1. 2. 3.]\n",
      " [4. 5. 6.]\n",
      " [1. 2. 3.]\n",
      " [1. 2. 3.]]\n"
     ]
    }
   ],
   "source": [
    "tmp1 = np.array([[1,2,3],[4,5,6],[1,2.,3],[1,2.,3]])\n",
    "print(tmp1)\n",
    "print(tmp1[::,::])\n",
    "print(tmp1[:,1])\n",
    "print(tmp1[::,1])\n",
    "print(tmp1[:,:2])\n",
    "print(tmp1[1:,1:2])\n",
    "print(tmp1[::,::-1])\n",
    "print(tmp1[::-1,::-1])\n",
    "print(tmp1[...])"
   ]
  },
  {
   "cell_type": "code",
   "execution_count": 50,
   "metadata": {},
   "outputs": [
    {
     "name": "stdout",
     "output_type": "stream",
     "text": [
      "[0 1 2 3 4 5 6 7 8 9]\n",
      "[[0 1]\n",
      " [2 3]\n",
      " [4 5]\n",
      " [6 7]\n",
      " [8 9]]\n",
      "[[0]\n",
      " [1]\n",
      " [2]\n",
      " [3]\n",
      " [4]\n",
      " [5]\n",
      " [6]\n",
      " [7]\n",
      " [8]\n",
      " [9]]\n"
     ]
    }
   ],
   "source": [
    "tmp = np.arange(10)\n",
    "print(tmp)\n",
    "print(tmp.reshape((5,2)))\n",
    "print(tmp.reshape((10,1)))"
   ]
  },
  {
   "cell_type": "code",
   "execution_count": 55,
   "metadata": {},
   "outputs": [
    {
     "name": "stdout",
     "output_type": "stream",
     "text": [
      "[[0.98603349 0.06718779 0.16371802]\n",
      " [0.15556205 0.63714639 0.61557943]\n",
      " [0.65246882 0.96486057 0.47637107]]\n"
     ]
    }
   ],
   "source": [
    "tmp = np.random.random([3,3])\n",
    "print(tmp)"
   ]
  },
  {
   "cell_type": "code",
   "execution_count": 60,
   "metadata": {},
   "outputs": [
    {
     "name": "stdout",
     "output_type": "stream",
     "text": [
      "[  1.           8.07142857  15.14285714  22.21428571  29.28571429\n",
      "  36.35714286  43.42857143  50.5         57.57142857  64.64285714\n",
      "  71.71428571  78.78571429  85.85714286  92.92857143 100.        ]\n"
     ]
    }
   ],
   "source": [
    "tmp = np.linspace(1,100,15)\n",
    "print(tmp)"
   ]
  },
  {
   "cell_type": "code",
   "execution_count": 64,
   "metadata": {},
   "outputs": [
    {
     "name": "stdout",
     "output_type": "stream",
     "text": [
      "[[3 3]\n",
      " [3 3]]\n",
      "[[-1 -1]\n",
      " [-1 -1]]\n",
      "[[0.5 0.5]\n",
      " [0.5 0.5]]\n",
      "[[1 1]\n",
      " [1 1]]\n",
      "[[2 2]\n",
      " [2 2]]\n",
      "[[1 1]\n",
      " [1 1]]\n",
      "[[4 4]\n",
      " [4 4]]\n"
     ]
    }
   ],
   "source": [
    "a = np.array([[1,1],[1,1]])\n",
    "b = np.array([[2,2],[2,2]])\n",
    "print(a+b)\n",
    "print(a-b)\n",
    "print(a/b)\n",
    "print(a%b)\n",
    "print(a*b)\n",
    "print(a**b)\n",
    "print(np.dot(a,b))"
   ]
  },
  {
   "cell_type": "code",
   "execution_count": 84,
   "metadata": {},
   "outputs": [
    {
     "name": "stdout",
     "output_type": "stream",
     "text": [
      "[[ 0  1  2]\n",
      " [ 3  4  5]\n",
      " [ 6  7  8]\n",
      " [ 9 10 11]]\n",
      "0\n",
      "11\n",
      "[0 1 2]\n",
      "[0 3 6 9]\n",
      "66\n",
      "[18 22 26]\n",
      "[ 3 12 21 30]\n",
      "[  0  60 336 990]\n",
      "[0.81649658 0.81649658 0.81649658 0.81649658]\n",
      "[ 1.  4.  7. 10.]\n",
      "[ 1.  4.  7. 10.]\n"
     ]
    }
   ],
   "source": [
    "a = np.arange(0,12).reshape(4,3)\n",
    "print(a)\n",
    "#print(a.min())\n",
    "print(np.min(a))\n",
    "print(np.max(a))\n",
    "print(np.min(a,0))\n",
    "print(np.min(a,1))\n",
    "print(np.sum(a))\n",
    "print(np.sum(a,0))\n",
    "print(np.sum(a,1))\n",
    "print(np.prod(a,1))\n",
    "print(np.std(a,1))\n",
    "print(np.mean(a,1))\n",
    "print(np.median(a,1))"
   ]
  },
  {
   "cell_type": "code",
   "execution_count": 88,
   "metadata": {},
   "outputs": [
    {
     "name": "stdout",
     "output_type": "stream",
     "text": [
      "[[0 1]\n",
      " [2 3]]\n",
      "[[4 5]\n",
      " [6 7]]\n",
      "[[0 1]\n",
      " [2 3]\n",
      " [4 5]\n",
      " [6 7]]\n",
      "[[0 1 4 5]\n",
      " [2 3 6 7]]\n"
     ]
    }
   ],
   "source": [
    "a = np.arange(0,4).reshape(2,2)\n",
    "b = np.arange(4,8).reshape(2,2)\n",
    "print(a)\n",
    "print(b)\n",
    "print(np.vstack([a,b]))\n",
    "print(np.hstack([a,b]))"
   ]
  },
  {
   "cell_type": "code",
   "execution_count": 96,
   "metadata": {},
   "outputs": [
    {
     "name": "stdout",
     "output_type": "stream",
     "text": [
      "[[False False False  True]\n",
      " [ True  True  True  True]\n",
      " [ True  True  True  True]\n",
      " [ True  True  True  True]\n",
      " [ True  True  True  True]]\n",
      "[13 14 15 16 17 18 19 20 21 22 23 24 25 26 27 28 29]\n",
      "[13 14 15 16 17 18 19 20 21 22 23 24 25]\n"
     ]
    }
   ],
   "source": [
    "a = np.arange(10,30).reshape(5,4)\n",
    "print(a>12)\n",
    "idx = np.where(a>12)\n",
    "print(a[idx])\n",
    "idx1 = np.where((a>12) & (a<26))\n",
    "#print(idx1)\n",
    "print(a[idx1])"
   ]
  },
  {
   "cell_type": "code",
   "execution_count": 101,
   "metadata": {},
   "outputs": [
    {
     "name": "stdout",
     "output_type": "stream",
     "text": [
      "[[ 0  1  2  3  4]\n",
      " [ 5  6  7  8  9]\n",
      " [10 11 12 13 14]\n",
      " [15 16 17 18 19]\n",
      " [20 21 22 23 24]\n",
      " [25 26 27 28 29]\n",
      " [30 31 32 33 34]\n",
      " [35 36 37 38 39]\n",
      " [40 41 42 43 44]\n",
      " [45 46 47 48 49]]\n",
      "[26 28 30 32 34 36 38 40 42 44 46 48]\n"
     ]
    }
   ],
   "source": [
    "a = np.arange(0,50).reshape(10,5)\n",
    "print(a)\n",
    "idx = np.where((a%2==0) & (a>24))\n",
    "print(a[idx])"
   ]
  },
  {
   "cell_type": "code",
   "execution_count": 109,
   "metadata": {},
   "outputs": [
    {
     "name": "stdout",
     "output_type": "stream",
     "text": [
      "[array([0, 1, 2, 3, 4, 5, 6, 7, 8, 9]), array([10, 11, 12, 13, 14, 15, 16, 17, 18, 19]), array([20, 21, 22, 23, 24, 25, 26, 27, 28, 29]), array([30, 31, 32, 33, 34, 35, 36, 37, 38, 39]), array([40, 41, 42, 43, 44, 45, 46, 47, 48, 49])]\n",
      "[array([0, 1, 2, 3]), array([4, 5, 6, 7, 8]), array([ 9, 10, 11, 12, 13, 14, 15, 16, 17, 18, 19, 20, 21, 22, 23, 24, 25,\n",
      "       26, 27, 28, 29, 30, 31, 32, 33, 34, 35, 36, 37, 38, 39, 40, 41, 42,\n",
      "       43, 44, 45, 46, 47, 48, 49])]\n",
      "[array([0, 1]), array([2, 3]), array([4, 5]), array([6, 7]), array([ 8,  9, 10, 11, 12, 13, 14, 15, 16, 17, 18, 19, 20, 21, 22, 23, 24,\n",
      "       25, 26, 27, 28, 29, 30, 31, 32, 33, 34, 35, 36, 37, 38, 39, 40, 41,\n",
      "       42, 43, 44, 45, 46, 47, 48, 49])]\n"
     ]
    }
   ],
   "source": [
    "a = np.arange(0,50)\n",
    "print(np.split(a,5))\n",
    "print(np.split(a,[4,9]))\n",
    "print(np.split(a,[2,4,6,8]))"
   ]
  },
  {
   "cell_type": "code",
   "execution_count": 113,
   "metadata": {},
   "outputs": [
    {
     "name": "stdout",
     "output_type": "stream",
     "text": [
      "[['A' 'B' 'C' 'D']\n",
      " ['1' '4' '7' '']\n",
      " ['2' '5' '8' '10']\n",
      " ['3' '6' '9' '']]\n"
     ]
    }
   ],
   "source": [
    "d1 = np.genfromtxt(\"test1.csv\",delimiter=\",\",dtype=\"U75\")\n",
    "print(d1)"
   ]
  }
 ],
 "metadata": {
  "kernelspec": {
   "display_name": "Python 3",
   "language": "python",
   "name": "python3"
  },
  "language_info": {
   "codemirror_mode": {
    "name": "ipython",
    "version": 3
   },
   "file_extension": ".py",
   "mimetype": "text/x-python",
   "name": "python",
   "nbconvert_exporter": "python",
   "pygments_lexer": "ipython3",
   "version": "3.6.4"
  }
 },
 "nbformat": 4,
 "nbformat_minor": 2
}
