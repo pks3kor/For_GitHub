{
 "cells": [
  {
   "cell_type": "markdown",
   "metadata": {},
   "source": [
    "# Pandas and Matplotlib\n",
    "Topics to be covered:Introduction to Pandas Importing data into Python Pandas Data Frames,Indexing Data Frames ,Basic Operations With Data frame,Renaming Columns,Subletting and filtering a data frame.Matplotlib Introduction, plot(), Controlling Line Properties,Working with Multiple Figures,Histograms"
   ]
  },
  {
   "cell_type": "code",
   "execution_count": 1,
   "metadata": {},
   "outputs": [],
   "source": [
    "import pandas as pd\n",
    "import numpy as np\n",
    "import matplotlib.pyplot as plt"
   ]
  },
  {
   "cell_type": "code",
   "execution_count": 7,
   "metadata": {},
   "outputs": [
    {
     "name": "stdout",
     "output_type": "stream",
     "text": [
      "0    10\n",
      "1    11\n",
      "2    12\n",
      "3    13\n",
      "4    14\n",
      "5    15\n",
      "dtype: int16\n",
      "10\n",
      "0    10\n",
      "1    11\n",
      "dtype: int16\n"
     ]
    }
   ],
   "source": [
    "sr = pd.Series([10,11,12,13,14,15],dtype=\"int16\")\n",
    "print(sr)\n",
    "print(sr[0])\n",
    "print(sr[0:2])"
   ]
  },
  {
   "cell_type": "code",
   "execution_count": 12,
   "metadata": {},
   "outputs": [
    {
     "name": "stdout",
     "output_type": "stream",
     "text": [
      "10\n"
     ]
    }
   ],
   "source": [
    "sr = pd.Series([10,11,12,13,14,15],index=['A',\"B\",'C',\"D\",\"E\",\"F\"])\n",
    "#sr = pd.Series([10,11,12,13,14,15],index=range(6))\n",
    "print(sr[\"A\"])"
   ]
  },
  {
   "cell_type": "code",
   "execution_count": 16,
   "metadata": {},
   "outputs": [
    {
     "name": "stdout",
     "output_type": "stream",
     "text": [
      "    0   1   2   3   4   5\n",
      "0   0   1   2   3   4   5\n",
      "1   6   7   8   9  10  11\n",
      "2  12  13  14  15  16  17\n",
      "3  18  19  20  21  22  23\n",
      "4  24  25  26  27  28  29\n"
     ]
    }
   ],
   "source": [
    "tmp = np.arange(30).reshape(5,6)\n",
    "df = pd.DataFrame(tmp)\n",
    "print(df)"
   ]
  },
  {
   "cell_type": "code",
   "execution_count": 19,
   "metadata": {},
   "outputs": [
    {
     "name": "stdout",
     "output_type": "stream",
     "text": [
      "        A     B     C     D     E     F\n",
      "100   0.0   1.0   2.0   3.0   4.0   5.0\n",
      "101   6.0   7.0   8.0   9.0  10.0  11.0\n",
      "102  12.0  13.0  14.0  15.0  16.0  17.0\n",
      "103  18.0  19.0  20.0  21.0  22.0  23.0\n",
      "104  24.0  25.0  26.0  27.0  28.0  29.0\n"
     ]
    }
   ],
   "source": [
    "tmp = np.arange(30).reshape(5,6)\n",
    "df = pd.DataFrame(tmp,index=range(100,105),columns=[\"A\",\"B\",\"C\",\"D\",\"E\",\"F\"],dtype=\"float64\")\n",
    "print(df)"
   ]
  },
  {
   "cell_type": "code",
   "execution_count": 31,
   "metadata": {},
   "outputs": [
    {
     "name": "stdout",
     "output_type": "stream",
     "text": [
      "[RangeIndex(start=100, stop=105, step=1), Index(['A', 'B', 'C', 'D', 'E', 'F'], dtype='object')]\n",
      "RangeIndex(start=100, stop=105, step=1)\n",
      "Index(['A', 'B', 'C', 'D', 'E', 'F'], dtype='object')\n",
      "A    int32\n",
      "B    int32\n",
      "C    int32\n",
      "D    int32\n",
      "E    int32\n",
      "F    int32\n",
      "dtype: object\n",
      "30\n"
     ]
    }
   ],
   "source": [
    "tmp = np.arange(30).reshape(5,6)\n",
    "df = pd.DataFrame(tmp,index=range(100,105),columns=[\"A\",\"B\",\"C\",\"D\",\"E\",\"F\"])\n",
    "print(df.axes)\n",
    "print(df.index)\n",
    "print(df.columns)\n",
    "print(df.dtypes)\n",
    "print(df.size)"
   ]
  },
  {
   "cell_type": "code",
   "execution_count": 38,
   "metadata": {},
   "outputs": [
    {
     "name": "stdout",
     "output_type": "stream",
     "text": [
      "   0   1   2   3   4   5   6   7   8   9  ...  20  21  22  23  24  25  26  27  \\\n",
      "0   0   1   2   3   4   5   6   7   8   9 ...  20  21  22  23  24  25  26  27   \n",
      "1  30  31  32  33  34  35  36  37  38  39 ...  50  51  52  53  54  55  56  57   \n",
      "\n",
      "   28  29  \n",
      "0  28  29  \n",
      "1  58  59  \n",
      "\n",
      "[2 rows x 30 columns]\n",
      "      0     1     2     3     4     5     6     7     8     9   ...     20  \\\n",
      "97  2910  2911  2912  2913  2914  2915  2916  2917  2918  2919  ...   2930   \n",
      "98  2940  2941  2942  2943  2944  2945  2946  2947  2948  2949  ...   2960   \n",
      "99  2970  2971  2972  2973  2974  2975  2976  2977  2978  2979  ...   2990   \n",
      "\n",
      "      21    22    23    24    25    26    27    28    29  \n",
      "97  2931  2932  2933  2934  2935  2936  2937  2938  2939  \n",
      "98  2961  2962  2963  2964  2965  2966  2967  2968  2969  \n",
      "99  2991  2992  2993  2994  2995  2996  2997  2998  2999  \n",
      "\n",
      "[3 rows x 30 columns]\n"
     ]
    }
   ],
   "source": [
    "tmp = np.arange(3000).reshape(100,30)\n",
    "df = pd.DataFrame(tmp)\n",
    "print(df.head(2))\n",
    "print(df.tail(3))"
   ]
  },
  {
   "cell_type": "code",
   "execution_count": 38,
   "metadata": {},
   "outputs": [
    {
     "name": "stdout",
     "output_type": "stream",
     "text": [
      "   0   1   2   3   4   5   6   7   8   9  ...  20  21  22  23  24  25  26  27  \\\n",
      "0   0   1   2   3   4   5   6   7   8   9 ...  20  21  22  23  24  25  26  27   \n",
      "1  30  31  32  33  34  35  36  37  38  39 ...  50  51  52  53  54  55  56  57   \n",
      "\n",
      "   28  29  \n",
      "0  28  29  \n",
      "1  58  59  \n",
      "\n",
      "[2 rows x 30 columns]\n",
      "      0     1     2     3     4     5     6     7     8     9   ...     20  \\\n",
      "97  2910  2911  2912  2913  2914  2915  2916  2917  2918  2919  ...   2930   \n",
      "98  2940  2941  2942  2943  2944  2945  2946  2947  2948  2949  ...   2960   \n",
      "99  2970  2971  2972  2973  2974  2975  2976  2977  2978  2979  ...   2990   \n",
      "\n",
      "      21    22    23    24    25    26    27    28    29  \n",
      "97  2931  2932  2933  2934  2935  2936  2937  2938  2939  \n",
      "98  2961  2962  2963  2964  2965  2966  2967  2968  2969  \n",
      "99  2991  2992  2993  2994  2995  2996  2997  2998  2999  \n",
      "\n",
      "[3 rows x 30 columns]\n"
     ]
    }
   ],
   "source": [
    "tmp = np.arange(3000).reshape(100,30)\n",
    "df = pd.DataFrame(tmp)\n",
    "print(df.head(2))\n",
    "print(df.tail(3))"
   ]
  },
  {
   "cell_type": "code",
   "execution_count": 41,
   "metadata": {},
   "outputs": [
    {
     "name": "stdout",
     "output_type": "stream",
     "text": [
      "                0            1            2            3            4   \\\n",
      "count   100.000000   100.000000   100.000000   100.000000   100.000000   \n",
      "mean   1485.000000  1486.000000  1487.000000  1488.000000  1489.000000   \n",
      "std     870.344759   870.344759   870.344759   870.344759   870.344759   \n",
      "min       0.000000     1.000000     2.000000     3.000000     4.000000   \n",
      "25%     742.500000   743.500000   744.500000   745.500000   746.500000   \n",
      "50%    1485.000000  1486.000000  1487.000000  1488.000000  1489.000000   \n",
      "75%    2227.500000  2228.500000  2229.500000  2230.500000  2231.500000   \n",
      "max    2970.000000  2971.000000  2972.000000  2973.000000  2974.000000   \n",
      "\n",
      "                5            6            7            8            9   \\\n",
      "count   100.000000   100.000000   100.000000   100.000000   100.000000   \n",
      "mean   1490.000000  1491.000000  1492.000000  1493.000000  1494.000000   \n",
      "std     870.344759   870.344759   870.344759   870.344759   870.344759   \n",
      "min       5.000000     6.000000     7.000000     8.000000     9.000000   \n",
      "25%     747.500000   748.500000   749.500000   750.500000   751.500000   \n",
      "50%    1490.000000  1491.000000  1492.000000  1493.000000  1494.000000   \n",
      "75%    2232.500000  2233.500000  2234.500000  2235.500000  2236.500000   \n",
      "max    2975.000000  2976.000000  2977.000000  2978.000000  2979.000000   \n",
      "\n",
      "          ...                20           21           22           23  \\\n",
      "count     ...        100.000000   100.000000   100.000000   100.000000   \n",
      "mean      ...       1505.000000  1506.000000  1507.000000  1508.000000   \n",
      "std       ...        870.344759   870.344759   870.344759   870.344759   \n",
      "min       ...         20.000000    21.000000    22.000000    23.000000   \n",
      "25%       ...        762.500000   763.500000   764.500000   765.500000   \n",
      "50%       ...       1505.000000  1506.000000  1507.000000  1508.000000   \n",
      "75%       ...       2247.500000  2248.500000  2249.500000  2250.500000   \n",
      "max       ...       2990.000000  2991.000000  2992.000000  2993.000000   \n",
      "\n",
      "                24           25           26           27           28  \\\n",
      "count   100.000000   100.000000   100.000000   100.000000   100.000000   \n",
      "mean   1509.000000  1510.000000  1511.000000  1512.000000  1513.000000   \n",
      "std     870.344759   870.344759   870.344759   870.344759   870.344759   \n",
      "min      24.000000    25.000000    26.000000    27.000000    28.000000   \n",
      "25%     766.500000   767.500000   768.500000   769.500000   770.500000   \n",
      "50%    1509.000000  1510.000000  1511.000000  1512.000000  1513.000000   \n",
      "75%    2251.500000  2252.500000  2253.500000  2254.500000  2255.500000   \n",
      "max    2994.000000  2995.000000  2996.000000  2997.000000  2998.000000   \n",
      "\n",
      "                29  \n",
      "count   100.000000  \n",
      "mean   1514.000000  \n",
      "std     870.344759  \n",
      "min      29.000000  \n",
      "25%     771.500000  \n",
      "50%    1514.000000  \n",
      "75%    2256.500000  \n",
      "max    2999.000000  \n",
      "\n",
      "[8 rows x 30 columns]\n"
     ]
    }
   ],
   "source": [
    "tmp = np.arange(3000).reshape(100,30)\n",
    "df = pd.DataFrame(tmp)\n",
    "print(df.describe())"
   ]
  },
  {
   "cell_type": "code",
   "execution_count": 49,
   "metadata": {},
   "outputs": [
    {
     "name": "stdout",
     "output_type": "stream",
     "text": [
      "      A   B   C   D   E   F\n",
      "100   0   1   2   3   4   5\n",
      "101   6   7   8   9  10  11\n",
      "102  12  13  14  15  16  17\n",
      "103  18  19  20  21  22  23\n",
      "104  24  25  26  27  28  29\n",
      "100     0\n",
      "101     6\n",
      "102    12\n",
      "103    18\n",
      "104    24\n",
      "Name: A, dtype: int32\n",
      "      A   E   B\n",
      "100   0   4   1\n",
      "101   6  10   7\n",
      "102  12  16  13\n",
      "103  18  22  19\n",
      "104  24  28  25\n"
     ]
    }
   ],
   "source": [
    "tmp = np.arange(30).reshape(5,6)\n",
    "df = pd.DataFrame(tmp,index=range(100,105),columns=[\"A\",\"B\",\"C\",\"D\",\"E\",\"F\"])\n",
    "print(df)\n",
    "print(df[\"A\"])\n",
    "#print(df.A)\n",
    "print(df[[\"A\",\"E\",\"B\"]])"
   ]
  },
  {
   "cell_type": "code",
   "execution_count": 52,
   "metadata": {},
   "outputs": [
    {
     "name": "stdout",
     "output_type": "stream",
     "text": [
      "    0   1   2   3   4   5\n",
      "0   0   1   2   3   4   5\n",
      "1   6   7   8   9  10  11\n",
      "2  12  13  14  15  16  17\n",
      "3  18  19  20  21  22  23\n",
      "4  24  25  26  27  28  29\n",
      "0     0\n",
      "1     6\n",
      "2    12\n",
      "3    18\n",
      "4    24\n",
      "Name: 0, dtype: int32\n"
     ]
    }
   ],
   "source": [
    "tmp = np.arange(30).reshape(5,6)\n",
    "df = pd.DataFrame(tmp)\n",
    "print(df)\n",
    "print(df[0])"
   ]
  },
  {
   "cell_type": "code",
   "execution_count": 94,
   "metadata": {},
   "outputs": [
    {
     "name": "stdout",
     "output_type": "stream",
     "text": [
      "A    0\n",
      "B    1\n",
      "C    2\n",
      "D    3\n",
      "E    4\n",
      "F    5\n",
      "Name: 100, dtype: int32\n",
      "      C   F\n",
      "100   2   5\n",
      "103  20  23\n",
      "      A   B   C   D   E   F\n",
      "100   0   1   2   3   4   5\n",
      "101   6   7   8   9  10  11\n",
      "102  12  13  14  15  16  17\n",
      "      A   B   C   D\n",
      "100   0   1   2   3\n",
      "101   6   7   8   9\n",
      "102  12  13  14  15\n"
     ]
    }
   ],
   "source": [
    "tmp = np.arange(30).reshape(5,6)\n",
    "df = pd.DataFrame(tmp,index=range(100,105),columns=[\"A\",\"B\",\"C\",\"D\",\"E\",\"F\"])\n",
    "#print(df)\n",
    "print(df.loc[100])\n",
    "print(df.loc[[100,103],[\"C\",\"F\"]])\n",
    "print(df.loc[100:102])\n",
    "print(df.loc[100:102,\"A\":\"D\"])"
   ]
  },
  {
   "cell_type": "code",
   "execution_count": 91,
   "metadata": {},
   "outputs": [
    {
     "name": "stdout",
     "output_type": "stream",
     "text": [
      "      C   D\n",
      "100   2   3\n",
      "101   8   9\n",
      "102  14  15\n"
     ]
    }
   ],
   "source": [
    "tmp = np.arange(30).reshape(5,6)\n",
    "df = pd.DataFrame(tmp,index=range(100,105),columns=[\"A\",\"B\",\"C\",\"D\",\"E\",\"F\"])\n",
    "#print(df)\n",
    "print(df.iloc[0:3,2:4])"
   ]
  },
  {
   "cell_type": "code",
   "execution_count": 88,
   "metadata": {},
   "outputs": [
    {
     "name": "stdout",
     "output_type": "stream",
     "text": [
      "60\n",
      "9.486832980505138\n",
      "12.0\n",
      "12.0\n",
      "0\n",
      "24\n",
      "0\n",
      "      A   D\n",
      "100   0   3\n",
      "101   6  12\n",
      "102  18  27\n",
      "103  36  48\n",
      "104  60  75\n",
      "135\n",
      "104    135\n",
      "dtype: int64\n"
     ]
    }
   ],
   "source": [
    "tmp = np.arange(30).reshape(5,6)\n",
    "df = pd.DataFrame(tmp,index=range(100,105),columns=[\"A\",\"B\",\"C\",\"D\",\"E\",\"F\"])\n",
    "print(df[\"A\"].sum())\n",
    "print(df[\"A\"].std())\n",
    "print(df[\"A\"].mean())\n",
    "print(df[\"A\"].median())\n",
    "print(df[\"A\"].min())\n",
    "print(df[\"A\"].max())\n",
    "print(df[\"A\"].prod())\n",
    "print(df[[\"A\",\"D\"]].cumsum())\n",
    "tmp = df[[\"A\",\"D\"]].cumsum()\n",
    "print(tmp.iloc[-1].sum())\n",
    "print(tmp.tail(1).sum(axis=1))"
   ]
  }
 ],
 "metadata": {
  "kernelspec": {
   "display_name": "Python 3",
   "language": "python",
   "name": "python3"
  },
  "language_info": {
   "codemirror_mode": {
    "name": "ipython",
    "version": 3
   },
   "file_extension": ".py",
   "mimetype": "text/x-python",
   "name": "python",
   "nbconvert_exporter": "python",
   "pygments_lexer": "ipython3",
   "version": "3.6.4"
  }
 },
 "nbformat": 4,
 "nbformat_minor": 2
}
