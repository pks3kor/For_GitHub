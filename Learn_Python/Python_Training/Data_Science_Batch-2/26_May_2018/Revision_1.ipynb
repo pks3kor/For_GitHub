{
 "cells": [
  {
   "cell_type": "markdown",
   "metadata": {},
   "source": [
    "# Revision Class"
   ]
  },
  {
   "cell_type": "markdown",
   "metadata": {},
   "source": [
    "#### list,dictionary,lambda,File IO, regex boundry concept, multiple grouping in pandas, plotting, "
   ]
  },
  {
   "cell_type": "code",
   "execution_count": 4,
   "metadata": {},
   "outputs": [
    {
     "name": "stdout",
     "output_type": "stream",
     "text": [
      "['B', 'A', 4, 3, 2, 1]\n"
     ]
    },
    {
     "data": {
      "text/plain": [
       "1"
      ]
     },
     "execution_count": 4,
     "metadata": {},
     "output_type": "execute_result"
    }
   ],
   "source": [
    "a= [1,2,3,4,\"A\",\"B\"]\n",
    "b=a[::-1]\n",
    "print(b)\n",
    "b.pop()"
   ]
  },
  {
   "cell_type": "code",
   "execution_count": 14,
   "metadata": {},
   "outputs": [
    {
     "name": "stdout",
     "output_type": "stream",
     "text": [
      "[11, 13, 15, 17, 19, 21, 23, 25, 27, 29, 31, 33, 35, 37, 39, 41, 43, 45, 47, 49, 51, 53, 55, 57, 59, 61, 63, 65, 67, 69, 71, 73, 75, 77, 79, 81, 83, 85, 87, 89, 91, 93, 95, 97, 99]\n"
     ]
    }
   ],
   "source": [
    "#List comprehnesion : [<var> for in <sequence> <optional condition>]\n",
    "def listOfNum(r):\n",
    "    return(range(1,r, ))\n",
    "\n",
    "tmp = [var for var in listOfNum(100) if var>10]\n",
    "print(tmp)"
   ]
  },
  {
   "cell_type": "code",
   "execution_count": 21,
   "metadata": {},
   "outputs": [
    {
     "name": "stdout",
     "output_type": "stream",
     "text": [
      "{0: 0, 1: 1, 2: 4, 3: 9, 4: 16, 5: 25, 6: 36, 7: 49, 8: 64, 9: 81, 10: 100, 11: 121, 12: 144, 13: 169, 14: 196, 15: 225, 16: 256, 17: 289, 18: 324, 19: 361}\n",
      "dict_keys([0, 1, 2, 3, 4, 5, 6, 7, 8, 9, 10, 11, 12, 13, 14, 15, 16, 17, 18, 19])\n",
      "dict_values([0, 1, 4, 9, 16, 25, 36, 49, 64, 81, 100, 121, 144, 169, 196, 225, 256, 289, 324, 361])\n",
      "dict_items([(0, 0), (1, 1), (2, 4), (3, 9), (4, 16), (5, 25), (6, 36), (7, 49), (8, 64), (9, 81), (10, 100), (11, 121), (12, 144), (13, 169), (14, 196), (15, 225), (16, 256), (17, 289), (18, 324), (19, 361)])\n",
      "0 0\n",
      "1 1\n",
      "2 4\n",
      "3 9\n",
      "4 16\n",
      "5 25\n",
      "6 36\n",
      "7 49\n",
      "8 64\n",
      "9 81\n",
      "10 100\n",
      "11 121\n",
      "12 144\n",
      "13 169\n",
      "14 196\n",
      "15 225\n",
      "16 256\n",
      "17 289\n",
      "18 324\n",
      "19 361\n"
     ]
    }
   ],
   "source": [
    "tmp1 = {x:x**2 for x in range(20)}\n",
    "print(tmp1)\n",
    "print(tmp1.keys())\n",
    "print(tmp1.values())\n",
    "print(tmp1.items())\n",
    "ks = tmp1.keys()\n",
    "\n",
    "for k in ks:\n",
    "    print(k,tmp1[k])"
   ]
  },
  {
   "cell_type": "code",
   "execution_count": 54,
   "metadata": {},
   "outputs": [
    {
     "name": "stdout",
     "output_type": "stream",
     "text": [
      "{'A': 2, 'B': 3, 'D': 2, 'E': 3, 'F': 2}\n"
     ]
    }
   ],
   "source": [
    "tmp2 = {\"A\":2,\"B\":3,\"C\":4,\"D\":2,\"E\":3,\"F\":2}\n",
    "l = tmp2.values()\n",
    "k = tmp2.keys()\n",
    "itm = tmp2.items()\n",
    "tmp_list = []\n",
    "#print(list(l).count(2))\n",
    "print({key:tmp2[key] for key in list(k) if list(l).count(tmp2[key]) >1}) # return dict of key:val pair of duplicates"
   ]
  },
  {
   "cell_type": "code",
   "execution_count": 67,
   "metadata": {},
   "outputs": [
    {
     "name": "stdout",
     "output_type": "stream",
     "text": [
      "200\n"
     ]
    }
   ],
   "source": [
    "tmp3 = {\"A\":2,\"B\":3,\"C\":4,\"D\":2,\"E\":3,\"F\":2,\"G\":{\"Y\":11,\"H\":{\"X\":100,\"J\":200},\"K\":{\"W\":1000,\"L\":2000}}}\n",
    "print(tmp3[\"G\"][\"H\"][\"J\"])"
   ]
  },
  {
   "cell_type": "code",
   "execution_count": 75,
   "metadata": {},
   "outputs": [
    {
     "name": "stdout",
     "output_type": "stream",
     "text": [
      "<function <lambda> at 0x000001E7D86EDAE8>\n",
      "[1, 2, 3, 4, 5, 6, 7, 8, 9, 10, 11, 12, 13, 14, 15, 16, 17, 18, 19]\n"
     ]
    }
   ],
   "source": [
    "lam = lambda x,y:range(x,y)\n",
    "print (lam)\n",
    "print (list(lam(1,20)))"
   ]
  },
  {
   "cell_type": "code",
   "execution_count": 118,
   "metadata": {},
   "outputs": [
    {
     "name": "stdout",
     "output_type": "stream",
     "text": [
      "Elektrotechnische\n",
      "electromechanical\n"
     ]
    }
   ],
   "source": [
    "import re\n",
    "fh = open(\"einstein.txt\")\n",
    "\n",
    "for line in fh:\n",
    "    srcObj = re.search(\"(\\\\b\\w{17}\\\\b)\",line)\n",
    "    #op = re.findall(\"(\\w{3,6})\",line)\n",
    "    #print(len(op))\n",
    "    if srcObj:\n",
    "        print(srcObj.group(1))\n",
    "        #print(line)\n",
    "    "
   ]
  },
  {
   "cell_type": "code",
   "execution_count": 119,
   "metadata": {},
   "outputs": [],
   "source": [
    "import numpy as np\n",
    "import pandas as pd\n",
    "import matplotlib.pyplot as plt"
   ]
  },
  {
   "cell_type": "code",
   "execution_count": 131,
   "metadata": {},
   "outputs": [
    {
     "name": "stdout",
     "output_type": "stream",
     "text": [
      "[14  4  5 12 11  1  5  8  2  6 17  9  1 16 15 18  1  7 19 16]\n"
     ]
    }
   ],
   "source": [
    "x = np.linspace(1,20,100)\n",
    "#print(x)\n",
    "x = np.random.random(10)\n",
    "#print(x)\n",
    "x = np.random.randint(1,20,20)\n",
    "print(x)"
   ]
  }
 ],
 "metadata": {
  "kernelspec": {
   "display_name": "Python 3",
   "language": "python",
   "name": "python3"
  },
  "language_info": {
   "codemirror_mode": {
    "name": "ipython",
    "version": 3
   },
   "file_extension": ".py",
   "mimetype": "text/x-python",
   "name": "python",
   "nbconvert_exporter": "python",
   "pygments_lexer": "ipython3",
   "version": "3.6.4"
  }
 },
 "nbformat": 4,
 "nbformat_minor": 2
}
