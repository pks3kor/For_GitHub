{
 "cells": [
  {
   "cell_type": "markdown",
   "metadata": {},
   "source": [
    "# Dictionary"
   ]
  },
  {
   "cell_type": "code",
   "execution_count": 4,
   "metadata": {
    "collapsed": true
   },
   "outputs": [],
   "source": [
    "a = {\"A\":1,\"B\":2}\n",
    "b = {1:1,2:2}\n",
    "c = {\"a\":1,\"A\":2}\n",
    "d = {\"a\":1,\"a\":2} # No exception for duplicate keys\n",
    "e = {\"a\":1,2:2,(\"A\",\"B\"):[1,2,3,\"A\"],\"C\":\"test123\"}\n",
    "f = {\"a\":1,\n",
    "     2:2,\n",
    "     (\"A\",\"B\"):[1,2,3,\"A\"],\n",
    "     \"C\":\"test123\",\n",
    "     \"D\":{\"test123\":123},\n",
    "     \"E\":{\"test123\":{\"A\":1,\"B\":2}}\n",
    "    }"
   ]
  },
  {
   "cell_type": "code",
   "execution_count": 5,
   "metadata": {},
   "outputs": [
    {
     "name": "stdout",
     "output_type": "stream",
     "text": [
      "{'A': 1, 'B': 2}\n",
      "{1: 1, 2: 2}\n",
      "{'a': 1, 'A': 2}\n",
      "{'a': 2}\n",
      "{'a': 1, 2: 2, ('A', 'B'): [1, 2, 3, 'A'], 'C': 'test123'}\n",
      "{'a': 1, 2: 2, ('A', 'B'): [1, 2, 3, 'A'], 'C': 'test123', 'D': {'test123': 123}, 'E': {'test123': {'A': 1, 'B': 2}}}\n"
     ]
    }
   ],
   "source": [
    "print(a)\n",
    "print(b)\n",
    "print(c)\n",
    "print(d)\n",
    "print(e)\n",
    "print(f)"
   ]
  },
  {
   "cell_type": "code",
   "execution_count": 12,
   "metadata": {},
   "outputs": [
    {
     "name": "stdout",
     "output_type": "stream",
     "text": [
      "test123\n",
      "321tset\n",
      "321\n",
      "2\n"
     ]
    }
   ],
   "source": [
    "f = {\"a\":1,\n",
    "     2:2,\n",
    "     (\"A\",\"B\"):[1,2,3,\"A\"],\n",
    "     \"C\":\"test123\",\n",
    "     \"D\":{\"test123\":\"123\"},\n",
    "     \"E\":{\"test123\":{\"A\":1,\"B\":2}}\n",
    "    }\n",
    "print(f[\"C\"])\n",
    "print(f[\"C\"][::-1])\n",
    "print(f[\"D\"][\"test123\"][::-1])\n",
    "print(f[\"E\"][\"test123\"][\"B\"])"
   ]
  },
  {
   "cell_type": "code",
   "execution_count": 58,
   "metadata": {},
   "outputs": [
    {
     "name": "stdout",
     "output_type": "stream",
     "text": [
      "dict_items([('A', 1), ('B', 2), ('C', 4), ('D', 4), ('E', 5), (('C', 8454578654), 55)])\n",
      "{'A': 100, 'B': 2, 'C': 4, 'D': 4, 'E': 5, ('C', 8454578654): 55, 'Z': 1000}\n",
      "dict_keys(['A', 'B', 'C', 'D', 'E', ('C', 8454578654), 'Z'])\n",
      "dict_values([100, 2, 4, 4, 5, 55, 1000])\n",
      "4\n",
      "4\n"
     ]
    }
   ],
   "source": [
    "a = {\"A\":1,\"B\":2,\"C\":4,\"D\":4,\"E\":5,(\"C\",8454578654):55}\n",
    "print(a.items())\n",
    "a[\"A\"] = 100\n",
    "a[\"Z\"] = 1000\n",
    "print(a)\n",
    "print(a.keys())\n",
    "print(a.values())\n",
    "print(a[list(a.keys())[3]])\n",
    "print(a[list(a.items())[5][0][0]])"
   ]
  }
 ],
 "metadata": {
  "kernelspec": {
   "display_name": "Python 3",
   "language": "python",
   "name": "python3"
  },
  "language_info": {
   "codemirror_mode": {
    "name": "ipython",
    "version": 3
   },
   "file_extension": ".py",
   "mimetype": "text/x-python",
   "name": "python",
   "nbconvert_exporter": "python",
   "pygments_lexer": "ipython3",
   "version": "3.6.2"
  }
 },
 "nbformat": 4,
 "nbformat_minor": 2
}
