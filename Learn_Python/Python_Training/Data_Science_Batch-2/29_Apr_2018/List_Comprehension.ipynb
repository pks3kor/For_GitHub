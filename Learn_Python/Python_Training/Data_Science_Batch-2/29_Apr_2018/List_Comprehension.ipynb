{
 "cells": [
  {
   "cell_type": "markdown",
   "metadata": {
    "collapsed": true
   },
   "source": [
    "# List Comprehension"
   ]
  },
  {
   "cell_type": "code",
   "execution_count": null,
   "metadata": {
    "collapsed": true
   },
   "outputs": [],
   "source": [
    "Syntax1 = [<var> for <var> in <seq>]\n",
    "Syntax2 = [<var> for <var> in <seq> <condition>]"
   ]
  },
  {
   "cell_type": "code",
   "execution_count": 4,
   "metadata": {},
   "outputs": [
    {
     "name": "stdout",
     "output_type": "stream",
     "text": [
      "[0, 1, 8, 27, 64, 125, 216, 343, 512, 729, 1000, 1331, 1728, 2197, 2744, 3375, 4096, 4913, 5832, 6859]\n"
     ]
    }
   ],
   "source": [
    "sqr = [num**3 for num in range(20)]\n",
    "print(sqr)"
   ]
  },
  {
   "cell_type": "code",
   "execution_count": 6,
   "metadata": {},
   "outputs": [
    {
     "name": "stdout",
     "output_type": "stream",
     "text": [
      "[0, 2, 4, 6, 8, 10, 12, 14, 16, 18]\n",
      "[1, 3, 5, 7, 9, 11, 13, 15, 17, 19]\n"
     ]
    }
   ],
   "source": [
    "even = [num for num in range(20) if num%2==0]\n",
    "print(even)\n",
    "odd = [num for num in range(20) if num%2]\n",
    "print(odd)"
   ]
  },
  {
   "cell_type": "markdown",
   "metadata": {},
   "source": [
    "# Create dictionary comprehension (0 to 200) which contains KEY as number and VALUE as power of two (or as square)"
   ]
  },
  {
   "cell_type": "code",
   "execution_count": 17,
   "metadata": {
    "scrolled": true
   },
   "outputs": [
    {
     "name": "stdout",
     "output_type": "stream",
     "text": [
      "{0: 0, 1: 1, 2: 4, 3: 9, 4: 16, 5: 25, 6: 36, 7: 49, 8: 64, 9: 81, 10: 100, 11: 121, 12: 144, 13: 169, 14: 196, 15: 225, 16: 256, 17: 289, 18: 324, 19: 361}\n",
      "{1: 1, 3: 9, 5: 25, 7: 49, 9: 81, 11: 121, 13: 169, 15: 225, 17: 289, 19: 361}\n",
      "{0: 0, 2: 4, 4: 16, 6: 36, 8: 64, 10: 100, 12: 144, 14: 196, 16: 256, 18: 324}\n",
      "{102: 10404, 104: 10816, 106: 11236, 108: 11664, 110: 12100, 112: 12544, 114: 12996, 116: 13456, 118: 13924, 120: 14400, 122: 14884, 124: 15376, 126: 15876, 128: 16384, 130: 16900, 132: 17424, 134: 17956, 136: 18496, 138: 19044, 140: 19600, 142: 20164, 144: 20736, 146: 21316, 148: 21904}\n",
      "[(102, 10404), (104, 10816), (106, 11236), (108, 11664), (110, 12100), (112, 12544), (114, 12996), (116, 13456), (118, 13924), (120, 14400), (122, 14884), (124, 15376), (126, 15876), (128, 16384), (130, 16900), (132, 17424), (134, 17956), (136, 18496), (138, 19044), (140, 19600), (142, 20164), (144, 20736), (146, 21316), (148, 21904)]\n"
     ]
    }
   ],
   "source": [
    "print({itm:itm**2 for itm in range(20)})\n",
    "print({itm:itm**2 for itm in range(20) if itm%2})\n",
    "print({itm:itm**2 for itm in range(20) if itm%2==0})\n",
    "print({itm:itm**2 for itm in range(2000) if itm>100 and itm<150 and itm%2==0 })\n",
    "print([(itm,itm**2) for itm in range(2000) if itm>100 and itm<150 and itm%2==0])"
   ]
  },
  {
   "cell_type": "code",
   "execution_count": 36,
   "metadata": {},
   "outputs": [
    {
     "name": "stdout",
     "output_type": "stream",
     "text": [
      "<generator object <genexpr> at 0x000002543418F9E8>\n",
      "0\n",
      "[1, 2, 3, 4, 5, 6, 7, 8, 9]\n"
     ]
    }
   ],
   "source": [
    "tmp = (x for x in range(10))\n",
    "print(tmp)\n",
    "print(next(tmp))\n",
    "print(list(tmp))"
   ]
  }
 ],
 "metadata": {
  "kernelspec": {
   "display_name": "Python 3",
   "language": "python",
   "name": "python3"
  },
  "language_info": {
   "codemirror_mode": {
    "name": "ipython",
    "version": 3
   },
   "file_extension": ".py",
   "mimetype": "text/x-python",
   "name": "python",
   "nbconvert_exporter": "python",
   "pygments_lexer": "ipython3",
   "version": "3.6.2"
  }
 },
 "nbformat": 4,
 "nbformat_minor": 2
}
