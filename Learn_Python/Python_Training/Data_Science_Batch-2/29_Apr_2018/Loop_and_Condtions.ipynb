{
 "cells": [
  {
   "cell_type": "markdown",
   "metadata": {},
   "source": [
    "# syntax:\n",
    "    for <var> in <seq>:\n",
    "        <statements>\n",
    "        .\n",
    "    "
   ]
  },
  {
   "cell_type": "code",
   "execution_count": 7,
   "metadata": {},
   "outputs": [
    {
     "name": "stdout",
     "output_type": "stream",
     "text": [
      "0 1 2 3 4 5 6 7 8 9 10 11 12 13 14 15 16 17 18 19 20 21 22 23 24 25 26 27 28 29 30 31 32 33 34 35 36 37 38 39 40 41 42 43 44 45 46 47 48 49 50 51 52 53 54 55 56 57 58 59 60 61 62 63 64 65 66 67 68 69 70 71 72 73 74 75 76 77 78 79 80 81 82 83 84 85 86 87 88 89 90 91 92 93 94 95 96 97 98 99 "
     ]
    }
   ],
   "source": [
    "a = range(100)\n",
    "for i in a:\n",
    "    print(i,end=\" \")"
   ]
  },
  {
   "cell_type": "markdown",
   "metadata": {},
   "source": [
    "# while <var>:\n",
    "    statement"
   ]
  },
  {
   "cell_type": "code",
   "execution_count": 10,
   "metadata": {},
   "outputs": [
    {
     "name": "stdout",
     "output_type": "stream",
     "text": [
      "10 9 8 7 6 5 4 3 2 1 "
     ]
    }
   ],
   "source": [
    "cnt = 10\n",
    "while cnt:\n",
    "    print(cnt,end=\" \")\n",
    "    cnt -= 1"
   ]
  },
  {
   "cell_type": "markdown",
   "metadata": {},
   "source": [
    "# if <condition>:\n",
    "    statements\n",
    "else:\n",
    "    statements\n",
    "or     \n",
    "\n",
    "if <condition>:\n",
    "    statements\n",
    "elif <condition>:\n",
    "    statements\n",
    "else:\n",
    "    statements\n",
    "    "
   ]
  },
  {
   "cell_type": "code",
   "execution_count": 14,
   "metadata": {},
   "outputs": [
    {
     "name": "stdout",
     "output_type": "stream",
     "text": [
      "I am in else 1 I am in else 3 I am in else 5 I am in else 7 I am in else 9 I am in else 11 I am in else 13 I am in else 15 I am in else 17 I am in else 19 I am in else 21 I am in else 23 I am in else 25 I am in else 27 I am in else 29 I am in else 31 I am in else 33 I am in else 35 I am in else 37 I am in else 39 I am in else 41 I am in else 43 I am in else 45 I am in else 47 I am in else 49 I am in else 51 I am in else 53 I am in else 55 I am in else 57 I am in else 59 I am in else 61 I am in else 63 I am in else 65 I am in else 67 I am in else 69 I am in else 71 I am in else 73 I am in else 75 I am in else 77 I am in else 79 I am in else 81 I am in else 83 I am in else 85 I am in else 87 I am in else 89 I am in else 91 I am in else 93 I am in else 95 I am in else 97 I am in else 99 "
     ]
    }
   ],
   "source": [
    "tmp = range(100)\n",
    "for i in tmp:\n",
    "    if i%2==1:\n",
    "        print(i,end=\" \")\n",
    "    elif i%2:\n",
    "        print(i,end=\" \")\n",
    "    else:\n",
    "        print(\"I am in else\",end=\" \")"
   ]
  },
  {
   "cell_type": "code",
   "execution_count": 16,
   "metadata": {},
   "outputs": [
    {
     "name": "stdout",
     "output_type": "stream",
     "text": [
      "70 72 74 76 78 80 82 84 86 88 90 92 94 96 98 "
     ]
    }
   ],
   "source": [
    "tmp = range(100)\n",
    "for i in tmp:\n",
    "    if i%2==0 and i>=70:\n",
    "        print(i,end=\" \")"
   ]
  }
 ],
 "metadata": {
  "kernelspec": {
   "display_name": "Python 3",
   "language": "python",
   "name": "python3"
  },
  "language_info": {
   "codemirror_mode": {
    "name": "ipython",
    "version": 3
   },
   "file_extension": ".py",
   "mimetype": "text/x-python",
   "name": "python",
   "nbconvert_exporter": "python",
   "pygments_lexer": "ipython3",
   "version": "3.6.2"
  }
 },
 "nbformat": 4,
 "nbformat_minor": 2
}
