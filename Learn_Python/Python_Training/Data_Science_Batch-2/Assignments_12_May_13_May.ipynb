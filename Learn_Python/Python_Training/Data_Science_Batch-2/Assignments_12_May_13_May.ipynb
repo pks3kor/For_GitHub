{
 "cells": [
  {
   "cell_type": "markdown",
   "metadata": {},
   "source": [
    "# Class05_12_May_2018 & Class06_13_May_2018"
   ]
  },
  {
   "cell_type": "markdown",
   "metadata": {},
   "source": [
    "#### 1. Write a program to write something in a text file which is not existing. Handle the exception gracefully and write the output."
   ]
  },
  {
   "cell_type": "markdown",
   "metadata": {},
   "source": [
    "#### 2. Write a prpogram to genrate an array of 30 numbers (1 to 30) of all possible shapes."
   ]
  },
  {
   "cell_type": "markdown",
   "metadata": {},
   "source": [
    "#### 3. Write a prpogram to genrate an array of random integer numbers between 10 to 50 numbers of all possible shapes."
   ]
  },
  {
   "cell_type": "markdown",
   "metadata": {},
   "source": [
    "#### 4. Write a prpogram to genrate an array of 100 equally spaced numbers between 1 to 7 numbers of possible shapes."
   ]
  },
  {
   "cell_type": "markdown",
   "metadata": {},
   "source": [
    "#### 5. Write a prpogram to filter out all the numbers (generated from que.4) which is greater than 3.84 and less than 6.57."
   ]
  },
  {
   "cell_type": "markdown",
   "metadata": {},
   "source": [
    "#### 6. Write a prpogram to replace first 3 numbers with 100 and middle 3'numbers with 200 and last 3 numbers with 300 in output of que.5"
   ]
  }
 ],
 "metadata": {
  "kernelspec": {
   "display_name": "Python 3",
   "language": "python",
   "name": "python3"
  },
  "language_info": {
   "codemirror_mode": {
    "name": "ipython",
    "version": 3
   },
   "file_extension": ".py",
   "mimetype": "text/x-python",
   "name": "python",
   "nbconvert_exporter": "python",
   "pygments_lexer": "ipython3",
   "version": "3.6.4"
  }
 },
 "nbformat": 4,
 "nbformat_minor": 2
}
